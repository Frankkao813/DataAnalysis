{
  "nbformat": 4,
  "nbformat_minor": 0,
  "metadata": {
    "colab": {
      "name": "NBA trends.ipynb",
      "provenance": []
    },
    "kernelspec": {
      "name": "python3",
      "display_name": "Python 3"
    },
    "language_info": {
      "name": "python"
    }
  },
  "cells": [
    {
      "cell_type": "markdown",
      "metadata": {
        "id": "JERRu0rfpNf6"
      },
      "source": [
        "### Optional -- technical details\n",
        "\n",
        "**Part 2**\n",
        "resource: \n",
        "1. https://www.kite.com/python/answers/how-to-check-if-a-string-contains-an-element-from-a-list-in-python\n",
        "\n",
        "```\n",
        "user_email = \"abc@gmail.com\"\n",
        "\n",
        "email_services = [\"hotmail\", \"gmail\", \"yahoo\"]\n",
        "email_contains_service = any(email_service in user_email for email_service in email_services)\n",
        "```\n",
        "2. https://stackoverflow.com/questions/4362981/beautifulsoup-how-do-i-extract-all-the-lis-from-a-list-of-uls-that-contains\n",
        "3. https://stackoverflow.com/questions/61968521/python-web-scraping-request-errormod-security\n"
      ]
    },
    {
      "cell_type": "markdown",
      "metadata": {
        "id": "tvfuUGgmf0fl"
      },
      "source": [
        "### Part 1: introduction and inspecting datasets\n",
        "The data to analyze in this file comes from the following github repository. (https://github.com/fivethirtyeight/data/tree/master/nba-elo) There are detailed explanations of meaning of column and how the data is collected.\n",
        "\n",
        "First, let's import the dataset and expect the appearence of data ny using `df.head()`\n"
      ]
    },
    {
      "cell_type": "code",
      "metadata": {
        "colab": {
          "base_uri": "https://localhost:8080/",
          "height": 202
        },
        "id": "gy9eZUEoovrR",
        "outputId": "45714979-2a17-4c92-ee16-fd5119f646ea"
      },
      "source": [
        "import pandas as pd\n",
        "\n",
        "nba_full = pd.read_csv(\"https://raw.githubusercontent.com/fivethirtyeight/data/master/nba-elo/nbaallelo.csv\")\n",
        "nba_full.head()"
      ],
      "execution_count": 3,
      "outputs": [
        {
          "output_type": "execute_result",
          "data": {
            "text/html": [
              "<div>\n",
              "<style scoped>\n",
              "    .dataframe tbody tr th:only-of-type {\n",
              "        vertical-align: middle;\n",
              "    }\n",
              "\n",
              "    .dataframe tbody tr th {\n",
              "        vertical-align: top;\n",
              "    }\n",
              "\n",
              "    .dataframe thead th {\n",
              "        text-align: right;\n",
              "    }\n",
              "</style>\n",
              "<table border=\"1\" class=\"dataframe\">\n",
              "  <thead>\n",
              "    <tr style=\"text-align: right;\">\n",
              "      <th></th>\n",
              "      <th>gameorder</th>\n",
              "      <th>game_id</th>\n",
              "      <th>lg_id</th>\n",
              "      <th>_iscopy</th>\n",
              "      <th>year_id</th>\n",
              "      <th>date_game</th>\n",
              "      <th>seasongame</th>\n",
              "      <th>is_playoffs</th>\n",
              "      <th>team_id</th>\n",
              "      <th>fran_id</th>\n",
              "      <th>pts</th>\n",
              "      <th>elo_i</th>\n",
              "      <th>elo_n</th>\n",
              "      <th>win_equiv</th>\n",
              "      <th>opp_id</th>\n",
              "      <th>opp_fran</th>\n",
              "      <th>opp_pts</th>\n",
              "      <th>opp_elo_i</th>\n",
              "      <th>opp_elo_n</th>\n",
              "      <th>game_location</th>\n",
              "      <th>game_result</th>\n",
              "      <th>forecast</th>\n",
              "      <th>notes</th>\n",
              "    </tr>\n",
              "  </thead>\n",
              "  <tbody>\n",
              "    <tr>\n",
              "      <th>0</th>\n",
              "      <td>1</td>\n",
              "      <td>194611010TRH</td>\n",
              "      <td>NBA</td>\n",
              "      <td>0</td>\n",
              "      <td>1947</td>\n",
              "      <td>11/1/1946</td>\n",
              "      <td>1</td>\n",
              "      <td>0</td>\n",
              "      <td>TRH</td>\n",
              "      <td>Huskies</td>\n",
              "      <td>66</td>\n",
              "      <td>1300.0000</td>\n",
              "      <td>1293.2767</td>\n",
              "      <td>40.294830</td>\n",
              "      <td>NYK</td>\n",
              "      <td>Knicks</td>\n",
              "      <td>68</td>\n",
              "      <td>1300.0000</td>\n",
              "      <td>1306.7233</td>\n",
              "      <td>H</td>\n",
              "      <td>L</td>\n",
              "      <td>0.640065</td>\n",
              "      <td>NaN</td>\n",
              "    </tr>\n",
              "    <tr>\n",
              "      <th>1</th>\n",
              "      <td>1</td>\n",
              "      <td>194611010TRH</td>\n",
              "      <td>NBA</td>\n",
              "      <td>1</td>\n",
              "      <td>1947</td>\n",
              "      <td>11/1/1946</td>\n",
              "      <td>1</td>\n",
              "      <td>0</td>\n",
              "      <td>NYK</td>\n",
              "      <td>Knicks</td>\n",
              "      <td>68</td>\n",
              "      <td>1300.0000</td>\n",
              "      <td>1306.7233</td>\n",
              "      <td>41.705170</td>\n",
              "      <td>TRH</td>\n",
              "      <td>Huskies</td>\n",
              "      <td>66</td>\n",
              "      <td>1300.0000</td>\n",
              "      <td>1293.2767</td>\n",
              "      <td>A</td>\n",
              "      <td>W</td>\n",
              "      <td>0.359935</td>\n",
              "      <td>NaN</td>\n",
              "    </tr>\n",
              "    <tr>\n",
              "      <th>2</th>\n",
              "      <td>2</td>\n",
              "      <td>194611020CHS</td>\n",
              "      <td>NBA</td>\n",
              "      <td>0</td>\n",
              "      <td>1947</td>\n",
              "      <td>11/2/1946</td>\n",
              "      <td>1</td>\n",
              "      <td>0</td>\n",
              "      <td>CHS</td>\n",
              "      <td>Stags</td>\n",
              "      <td>63</td>\n",
              "      <td>1300.0000</td>\n",
              "      <td>1309.6521</td>\n",
              "      <td>42.012257</td>\n",
              "      <td>NYK</td>\n",
              "      <td>Knicks</td>\n",
              "      <td>47</td>\n",
              "      <td>1306.7233</td>\n",
              "      <td>1297.0712</td>\n",
              "      <td>H</td>\n",
              "      <td>W</td>\n",
              "      <td>0.631101</td>\n",
              "      <td>NaN</td>\n",
              "    </tr>\n",
              "    <tr>\n",
              "      <th>3</th>\n",
              "      <td>2</td>\n",
              "      <td>194611020CHS</td>\n",
              "      <td>NBA</td>\n",
              "      <td>1</td>\n",
              "      <td>1947</td>\n",
              "      <td>11/2/1946</td>\n",
              "      <td>2</td>\n",
              "      <td>0</td>\n",
              "      <td>NYK</td>\n",
              "      <td>Knicks</td>\n",
              "      <td>47</td>\n",
              "      <td>1306.7233</td>\n",
              "      <td>1297.0712</td>\n",
              "      <td>40.692783</td>\n",
              "      <td>CHS</td>\n",
              "      <td>Stags</td>\n",
              "      <td>63</td>\n",
              "      <td>1300.0000</td>\n",
              "      <td>1309.6521</td>\n",
              "      <td>A</td>\n",
              "      <td>L</td>\n",
              "      <td>0.368899</td>\n",
              "      <td>NaN</td>\n",
              "    </tr>\n",
              "    <tr>\n",
              "      <th>4</th>\n",
              "      <td>3</td>\n",
              "      <td>194611020DTF</td>\n",
              "      <td>NBA</td>\n",
              "      <td>0</td>\n",
              "      <td>1947</td>\n",
              "      <td>11/2/1946</td>\n",
              "      <td>1</td>\n",
              "      <td>0</td>\n",
              "      <td>DTF</td>\n",
              "      <td>Falcons</td>\n",
              "      <td>33</td>\n",
              "      <td>1300.0000</td>\n",
              "      <td>1279.6189</td>\n",
              "      <td>38.864048</td>\n",
              "      <td>WSC</td>\n",
              "      <td>Capitols</td>\n",
              "      <td>50</td>\n",
              "      <td>1300.0000</td>\n",
              "      <td>1320.3811</td>\n",
              "      <td>H</td>\n",
              "      <td>L</td>\n",
              "      <td>0.640065</td>\n",
              "      <td>NaN</td>\n",
              "    </tr>\n",
              "  </tbody>\n",
              "</table>\n",
              "</div>"
            ],
            "text/plain": [
              "   gameorder       game_id lg_id  ...  game_result  forecast notes\n",
              "0          1  194611010TRH   NBA  ...            L  0.640065   NaN\n",
              "1          1  194611010TRH   NBA  ...            W  0.359935   NaN\n",
              "2          2  194611020CHS   NBA  ...            W  0.631101   NaN\n",
              "3          2  194611020CHS   NBA  ...            L  0.368899   NaN\n",
              "4          3  194611020DTF   NBA  ...            L  0.640065   NaN\n",
              "\n",
              "[5 rows x 23 columns]"
            ]
          },
          "metadata": {},
          "execution_count": 3
        }
      ]
    },
    {
      "cell_type": "markdown",
      "metadata": {
        "id": "hrzoZCJhgdOP"
      },
      "source": [
        "To know that whether there are missing values, we check the count in each column by `df.info()`. Moreover, we print the column name of the dataframe to check if the name of the column is clean.\n",
        "\n",
        "By the inspection, there isn't missing values, and we also don;t have to clean the column. Horray!"
      ]
    },
    {
      "cell_type": "code",
      "metadata": {
        "colab": {
          "base_uri": "https://localhost:8080/"
        },
        "id": "iqC8NCHzo8-v",
        "outputId": "df0bdfa6-0b76-4fec-9beb-0b453ad8e356"
      },
      "source": [
        "nba_full.info()\n",
        "print(nba_full.columns)"
      ],
      "execution_count": 4,
      "outputs": [
        {
          "output_type": "stream",
          "text": [
            "<class 'pandas.core.frame.DataFrame'>\n",
            "RangeIndex: 126314 entries, 0 to 126313\n",
            "Data columns (total 23 columns):\n",
            " #   Column         Non-Null Count   Dtype  \n",
            "---  ------         --------------   -----  \n",
            " 0   gameorder      126314 non-null  int64  \n",
            " 1   game_id        126314 non-null  object \n",
            " 2   lg_id          126314 non-null  object \n",
            " 3   _iscopy        126314 non-null  int64  \n",
            " 4   year_id        126314 non-null  int64  \n",
            " 5   date_game      126314 non-null  object \n",
            " 6   seasongame     126314 non-null  int64  \n",
            " 7   is_playoffs    126314 non-null  int64  \n",
            " 8   team_id        126314 non-null  object \n",
            " 9   fran_id        126314 non-null  object \n",
            " 10  pts            126314 non-null  int64  \n",
            " 11  elo_i          126314 non-null  float64\n",
            " 12  elo_n          126314 non-null  float64\n",
            " 13  win_equiv      126314 non-null  float64\n",
            " 14  opp_id         126314 non-null  object \n",
            " 15  opp_fran       126314 non-null  object \n",
            " 16  opp_pts        126314 non-null  int64  \n",
            " 17  opp_elo_i      126314 non-null  float64\n",
            " 18  opp_elo_n      126314 non-null  float64\n",
            " 19  game_location  126314 non-null  object \n",
            " 20  game_result    126314 non-null  object \n",
            " 21  forecast       126314 non-null  float64\n",
            " 22  notes          5424 non-null    object \n",
            "dtypes: float64(6), int64(7), object(10)\n",
            "memory usage: 22.2+ MB\n",
            "Index(['gameorder', 'game_id', 'lg_id', '_iscopy', 'year_id', 'date_game',\n",
            "       'seasongame', 'is_playoffs', 'team_id', 'fran_id', 'pts', 'elo_i',\n",
            "       'elo_n', 'win_equiv', 'opp_id', 'opp_fran', 'opp_pts', 'opp_elo_i',\n",
            "       'opp_elo_n', 'game_location', 'game_result', 'forecast', 'notes'],\n",
            "      dtype='object')\n"
          ],
          "name": "stdout"
        }
      ]
    },
    {
      "cell_type": "markdown",
      "metadata": {
        "id": "cQ0aHkI6g7My"
      },
      "source": [
        "In this file, I will substract some columns in the original dataframe (`nba_full`) and store it in the `nba` dataframe. The columns I use is as follows: `\"game_id\", \"year_id\", \"fran_id\", \"opp_fran\", \"game_location\", \"is_playoffs\", \"pts\", \"opp_pts\", \"game_result\", \"forecast`. After obtaining the desired dataframe, one can inspect the dataframe using `df.head()` again\n",
        "\n",
        "If one forgot the meaning of the columns, he/she is always welcome to refer to the link at the start of the block."
      ]
    },
    {
      "cell_type": "code",
      "metadata": {
        "colab": {
          "base_uri": "https://localhost:8080/",
          "height": 303
        },
        "id": "vhKmTHs2pDPH",
        "outputId": "648c3412-a84e-4120-b2a9-42d0f9f78bc4"
      },
      "source": [
        "nba = nba_full[[\"game_id\", \"year_id\", \"fran_id\", \"opp_fran\", \"game_location\", \"is_playoffs\", \"pts\", \"opp_pts\", \"game_result\", \"forecast\"]]\n",
        "nba[\"point_diff\"] = nba.pts - nba.opp_pts\n",
        "nba.head()"
      ],
      "execution_count": 6,
      "outputs": [
        {
          "output_type": "stream",
          "text": [
            "/usr/local/lib/python3.7/dist-packages/ipykernel_launcher.py:2: SettingWithCopyWarning: \n",
            "A value is trying to be set on a copy of a slice from a DataFrame.\n",
            "Try using .loc[row_indexer,col_indexer] = value instead\n",
            "\n",
            "See the caveats in the documentation: https://pandas.pydata.org/pandas-docs/stable/user_guide/indexing.html#returning-a-view-versus-a-copy\n",
            "  \n"
          ],
          "name": "stderr"
        },
        {
          "output_type": "execute_result",
          "data": {
            "text/html": [
              "<div>\n",
              "<style scoped>\n",
              "    .dataframe tbody tr th:only-of-type {\n",
              "        vertical-align: middle;\n",
              "    }\n",
              "\n",
              "    .dataframe tbody tr th {\n",
              "        vertical-align: top;\n",
              "    }\n",
              "\n",
              "    .dataframe thead th {\n",
              "        text-align: right;\n",
              "    }\n",
              "</style>\n",
              "<table border=\"1\" class=\"dataframe\">\n",
              "  <thead>\n",
              "    <tr style=\"text-align: right;\">\n",
              "      <th></th>\n",
              "      <th>game_id</th>\n",
              "      <th>year_id</th>\n",
              "      <th>fran_id</th>\n",
              "      <th>opp_fran</th>\n",
              "      <th>game_location</th>\n",
              "      <th>is_playoffs</th>\n",
              "      <th>pts</th>\n",
              "      <th>opp_pts</th>\n",
              "      <th>game_result</th>\n",
              "      <th>forecast</th>\n",
              "      <th>point_diff</th>\n",
              "    </tr>\n",
              "  </thead>\n",
              "  <tbody>\n",
              "    <tr>\n",
              "      <th>0</th>\n",
              "      <td>194611010TRH</td>\n",
              "      <td>1947</td>\n",
              "      <td>Huskies</td>\n",
              "      <td>Knicks</td>\n",
              "      <td>H</td>\n",
              "      <td>0</td>\n",
              "      <td>66</td>\n",
              "      <td>68</td>\n",
              "      <td>L</td>\n",
              "      <td>0.640065</td>\n",
              "      <td>-2</td>\n",
              "    </tr>\n",
              "    <tr>\n",
              "      <th>1</th>\n",
              "      <td>194611010TRH</td>\n",
              "      <td>1947</td>\n",
              "      <td>Knicks</td>\n",
              "      <td>Huskies</td>\n",
              "      <td>A</td>\n",
              "      <td>0</td>\n",
              "      <td>68</td>\n",
              "      <td>66</td>\n",
              "      <td>W</td>\n",
              "      <td>0.359935</td>\n",
              "      <td>2</td>\n",
              "    </tr>\n",
              "    <tr>\n",
              "      <th>2</th>\n",
              "      <td>194611020CHS</td>\n",
              "      <td>1947</td>\n",
              "      <td>Stags</td>\n",
              "      <td>Knicks</td>\n",
              "      <td>H</td>\n",
              "      <td>0</td>\n",
              "      <td>63</td>\n",
              "      <td>47</td>\n",
              "      <td>W</td>\n",
              "      <td>0.631101</td>\n",
              "      <td>16</td>\n",
              "    </tr>\n",
              "    <tr>\n",
              "      <th>3</th>\n",
              "      <td>194611020CHS</td>\n",
              "      <td>1947</td>\n",
              "      <td>Knicks</td>\n",
              "      <td>Stags</td>\n",
              "      <td>A</td>\n",
              "      <td>0</td>\n",
              "      <td>47</td>\n",
              "      <td>63</td>\n",
              "      <td>L</td>\n",
              "      <td>0.368899</td>\n",
              "      <td>-16</td>\n",
              "    </tr>\n",
              "    <tr>\n",
              "      <th>4</th>\n",
              "      <td>194611020DTF</td>\n",
              "      <td>1947</td>\n",
              "      <td>Falcons</td>\n",
              "      <td>Capitols</td>\n",
              "      <td>H</td>\n",
              "      <td>0</td>\n",
              "      <td>33</td>\n",
              "      <td>50</td>\n",
              "      <td>L</td>\n",
              "      <td>0.640065</td>\n",
              "      <td>-17</td>\n",
              "    </tr>\n",
              "  </tbody>\n",
              "</table>\n",
              "</div>"
            ],
            "text/plain": [
              "        game_id  year_id  fran_id  ... game_result  forecast  point_diff\n",
              "0  194611010TRH     1947  Huskies  ...           L  0.640065          -2\n",
              "1  194611010TRH     1947   Knicks  ...           W  0.359935           2\n",
              "2  194611020CHS     1947    Stags  ...           W  0.631101          16\n",
              "3  194611020CHS     1947   Knicks  ...           L  0.368899         -16\n",
              "4  194611020DTF     1947  Falcons  ...           L  0.640065         -17\n",
              "\n",
              "[5 rows x 11 columns]"
            ]
          },
          "metadata": {},
          "execution_count": 6
        }
      ]
    },
    {
      "cell_type": "markdown",
      "metadata": {
        "id": "wkUIzdDCiIp6"
      },
      "source": [
        "### Part 2: Inspecting values in the dataset\n",
        "Before, we start analyzing, we want to know more about our data, so we print the unique value of specified columns, which are stored in the `column_desired` variable.\n",
        "\n",
        "By the result, we can spot several interesting details.\n",
        "* The data is collected from 1947 - 2015, and the data is updated every year.\n",
        "* There are 53 teams in the data; however, there is only 30 teams exisiting now (at 2021). 23 teams disapperaed during the past 70 years! We can probably find what teams disappeared.\n",
        "* The other unique values in the three columns are relatively simple."
      ]
    },
    {
      "cell_type": "code",
      "metadata": {
        "colab": {
          "base_uri": "https://localhost:8080/"
        },
        "id": "uPK1yuGHqYZ7",
        "outputId": "40b4b3c1-cb8a-46bc-a366-65f76a57c9cb"
      },
      "source": [
        "column_desired = [\"year_id\", \"fran_id\", \"game_location\", \"is_playoffs\", \"game_result\"]\n",
        "for i in column_desired:\n",
        "    print(f\"unique value for {i}\", nba[i].unique())\n",
        "    print(\"There are {} values in this column.\".format(len(nba[i].unique())))\n",
        "    print(\"\\n\")"
      ],
      "execution_count": 9,
      "outputs": [
        {
          "output_type": "stream",
          "text": [
            "unique value for year_id [1947 1948 1949 1950 1951 1952 1953 1954 1955 1956 1957 1958 1959 1960\n",
            " 1961 1962 1963 1964 1965 1966 1967 1968 1969 1970 1971 1972 1973 1974\n",
            " 1975 1976 1977 1978 1979 1980 1981 1982 1983 1984 1985 1986 1987 1988\n",
            " 1989 1990 1991 1992 1993 1994 1995 1996 1997 1998 1999 2000 2001 2002\n",
            " 2003 2004 2005 2006 2007 2008 2009 2010 2011 2012 2013 2014 2015]\n",
            "There are 69 values in this column.\n",
            "\n",
            "\n",
            "unique value for fran_id ['Huskies' 'Knicks' 'Stags' 'Falcons' 'Capitols' 'Celtics' 'Steamrollers'\n",
            " 'Ironmen' 'Bombers' 'Rebels' 'Warriors' 'Baltimore' 'Jets' 'Pistons'\n",
            " 'Lakers' 'Kings' 'Hawks' 'Denver' 'Olympians' 'Redskins' 'Waterloo'\n",
            " 'Packers' 'Sixers' 'Wizards' 'Bulls' 'Thunder' 'Squires' 'Stars'\n",
            " 'Rockets' 'Colonels' 'Pacers' 'Nuggets' 'Spurs' 'Spirits' 'Sounds'\n",
            " 'Floridians' 'Nets' 'Condors' 'Bucks' 'Suns' 'Clippers' 'Cavaliers'\n",
            " 'Trailblazers' 'Sails' 'Jazz' 'Mavericks' 'Pelicans' 'Heat'\n",
            " 'Timberwolves' 'Magic' 'Grizzlies' 'Raptors' 'Hornets']\n",
            "There are 53 values in this column.\n",
            "\n",
            "\n",
            "unique value for game_location ['H' 'A' 'N']\n",
            "There are 3 values in this column.\n",
            "\n",
            "\n",
            "unique value for is_playoffs [0 1]\n",
            "There are 2 values in this column.\n",
            "\n",
            "\n",
            "unique value for game_result ['L' 'W']\n",
            "There are 2 values in this column.\n",
            "\n",
            "\n"
          ],
          "name": "stdout"
        }
      ]
    },
    {
      "cell_type": "markdown",
      "metadata": {
        "id": "nDpmYED-oWVU"
      },
      "source": [
        "In the following two code blocks, I would like to answer the question about **what nba teams disappeared**. My steps to tackle the problems is:\n",
        "* use BeautifulSoup module to obtain list of current basketball teams and store it into `teams_existing_2021`\n",
        "* store the unique elements in series in the `fran_id` into `full_teams_from_1947` column\n",
        "* I spot that there two data source call one team differntly (Sixers <-> 76ers), so change the element in list to make naming consistent\n",
        "```\n",
        "sixers_index = full_teams_from_1947.index(\"Sixers\")\n",
        "full_teams_from_1947[sixers_index] = \"76ers\"\n",
        "```\n",
        "* This step is a little bit tricky: I need to compare whether `full_teams_from_1947` has the similar element as `teams_existing_in_2021`, I use list comprehension and `any()` function to achieve the goal. Store the result into `teams_exist`\n",
        "```\n",
        "#list comprehension\n",
        "[expression for item in iterable]\n",
        "```\n",
        "* Finally, use set operations to substract `full_teams_from_1947` and `teams_exisiting_2021` to obtain the teams disappeared. \n",
        "\n",
        "The **teams_disappeared** variable is our answer!\n"
      ]
    },
    {
      "cell_type": "code",
      "metadata": {
        "id": "TVcYiscLinoK"
      },
      "source": [
        "# What teams does not exist now?\n",
        "# use BeautifulSoup modules to answer the question\n",
        "import requests\n",
        "from bs4 import BeautifulSoup\n",
        "\n",
        "headers = {'User-Agent': 'Mozilla/5.0 (Macintosh; Intel Mac OS X 10.12; rv:55.0) Gecko/20100101 Firefox/55.0'}\n",
        "webpage_response = requests.get(\"https://stayonthecourt.com/list-of-nba-teams/\", headers=headers)\n",
        "webpage = webpage_response.content\n",
        "soup = BeautifulSoup(webpage, \"html.parser\")\n"
      ],
      "execution_count": null,
      "outputs": []
    },
    {
      "cell_type": "code",
      "metadata": {
        "colab": {
          "base_uri": "https://localhost:8080/"
        },
        "id": "Y12AXnUgAUbh",
        "outputId": "c0274f0c-0eea-419b-82d0-39c1a9f38a92"
      },
      "source": [
        "teams_existing_2021 = [] #longer [\"New York Knicks\", \"Chccago Bulls\"]\n",
        "full_teams_from_1947 = nba.fran_id.unique().tolist() #shorter [\"Huskie\", \"Knicks\", \"Paloon\", ...]\n",
        "teams_exist = []\n",
        "\n",
        "# change the element in list first:\n",
        "sixers_index = full_teams_from_1947.index(\"Sixers\")\n",
        "full_teams_from_1947[sixers_index] = \"76ers\"\n",
        "\n",
        "for teams_raw in soup.find_all(\"ol\"):\n",
        "    for team in teams_raw.find_all(\"li\"):\n",
        "        teams_existing_2021.append(team.text)\n",
        "\n",
        "# find team still existing using the \"without area\" format (ex: New York Knicks -> Knicks)\n",
        "for team_old in full_teams_from_1947:\n",
        "    if any(team_old in team_new for team_new in teams_existing_2021):\n",
        "        teams_exist.append(team_old) \n",
        "\n",
        "#use set operation to find the teams disappeared\n",
        "teams_disappeared = set(full_teams_from_1947) - set(teams_exist)\n",
        "print(teams_disappeared)"
      ],
      "execution_count": 44,
      "outputs": [
        {
          "output_type": "stream",
          "text": [
            "{'Sounds', 'Huskies', 'Falcons', 'Redskins', 'Bombers', 'Waterloo', 'Colonels', 'Floridians', 'Condors', 'Steamrollers', 'Stags', 'Baltimore', 'Trailblazers', 'Sails', 'Capitols', 'Olympians', 'Jets', 'Ironmen', 'Rebels', 'Spirits', 'Stars', 'Packers', 'Squires'}\n"
          ],
          "name": "stdout"
        }
      ]
    },
    {
      "cell_type": "markdown",
      "metadata": {
        "id": "wUbs_bysu4ul"
      },
      "source": [
        ""
      ]
    },
    {
      "cell_type": "markdown",
      "metadata": {
        "id": "EfQt7MU7rZJf"
      },
      "source": [
        "### Part 3: Exploratory Data Analysis (EDA)\n",
        "Variable Type in the dataset:\n",
        "* gameid - nominal categorical varible\n",
        "* year_id - discrete quantiative variable\n",
        "* fran_id, opp_fran - nominal categorical variable\n",
        "* game location - nominal categorical variable\n",
        "* is_playoff - nominal categorical variable (binary)\n",
        "* game_result - nominal categorical variable (binary)\n",
        "* point difference - discrete categorical varible\n",
        "\n",
        "After knowing the datatype, we can do some summary statistics to describe the dataset."
      ]
    },
    {
      "cell_type": "code",
      "metadata": {
        "colab": {
          "base_uri": "https://localhost:8080/"
        },
        "id": "Ud5VRQm7su6H",
        "outputId": "11627517-8013-479a-8a61-575e17f28baa"
      },
      "source": [
        "# The times each team appear\n",
        "num_game_by_franId_10largest = nba.fran_id.value_counts().nlargest(10)\n",
        "print(num_game_by_franId_10largest)\n",
        "# ['Celtics', 'Knicks', 'Nets', 'Thunder', 'Spurs']\n"
      ],
      "execution_count": null,
      "outputs": [
        {
          "output_type": "stream",
          "text": [
            "Lakers      6024\n",
            "Celtics     5997\n",
            "Knicks      5769\n",
            "Warriors    5657\n",
            "Pistons     5650\n",
            "Sixers      5644\n",
            "Hawks       5572\n",
            "Kings       5475\n",
            "Wizards     4582\n",
            "Spurs       4309\n",
            "Name: fran_id, dtype: int64\n"
          ],
          "name": "stdout"
        }
      ]
    },
    {
      "cell_type": "markdown",
      "metadata": {
        "id": "wqE6RHsV23PT"
      },
      "source": [
        "I write a function to plot all the categorical variables in a column. The column which has more than 6 unique values will be shown in barplot format; whereas the column don;t meet the criteria of 6 will be shown in pie chart.\n",
        "\n",
        "In order to increae flexibility of the function, I use the unpacking operator `*args`, `**kwargs`"
      ]
    },
    {
      "cell_type": "code",
      "metadata": {
        "id": "4fhXuWgM-oOX"
      },
      "source": [
        "import matplotlib.pyplot as plt\n",
        "import seaborn as sns\n",
        "# https://blog.csdn.net/chenjinyu_tang/article/details/8136841\n",
        "def show_categorical_var_graph_new_ver2(df_name, col_name, *order, **kwargs):\n",
        "    if len(df_name[col_name].unique()) > 6:\n",
        "        arrange_order = order[0]\n",
        "        plt.figure(figsize = (20,6))\n",
        "        if arrange_order == False:\n",
        "            sns.countplot(df_name[col_name], order = df_name[col_name].value_counts(ascending = True).index)\n",
        "        else:\n",
        "            sns.barplot(x = kwargs[\"x\"], y = kwargs[\"y\"], data = kwargs[\"data\"])\n",
        "        plt.xticks(rotation = 90)\n",
        "        plt.show()\n",
        "    else:\n",
        "        pie_data = df_name[col_name].value_counts(normalize  = True)\n",
        "        plt.pie(pie_data, labels = pie_data.index.tolist())\n",
        "        plt.axis(\"equal\")\n",
        "        plt.show()"
      ],
      "execution_count": null,
      "outputs": []
    },
    {
      "cell_type": "markdown",
      "metadata": {
        "id": "oSFoqBg0KRYx"
      },
      "source": [
        "### Discussiion of the plot\n",
        "\n",
        "**Figure 1**\n",
        "\n",
        "From the plot, we cann know that which teams has the best performance, for they can play more games than others do. Some teams plays very few games, the reason might be that thwt were dismissed in a few years after the building of teams.\n",
        "\n",
        "**Figure 2**\n",
        "\n",
        "There is two interesting time in this plot. One is 1967-1968, and the other is 1998-1999.\n",
        "* 1967-1968: https://en.wikipedia.org/wiki/1967%E2%80%9368_NBA_season\n",
        "* 1998 - 1999: https://en.wikipedia.org/wiki/1998%E2%80%9399_NBA_season \n",
        "\n",
        "**Figure 3**\n",
        "\n",
        "This plot shows whether the team in the `fran_id` played at their home city, away, or neutral. so approximately half of the games are played in home city, half od them is away.\n",
        "\n",
        "**Figure 4**\n",
        "\n",
        "The plot is not surprising. When there is a team win, there will be a team lose. So the area of win and lost will be 50% each."
      ]
    },
    {
      "cell_type": "code",
      "metadata": {
        "colab": {
          "base_uri": "https://localhost:8080/",
          "height": 502
        },
        "id": "FZVUa7xb15VP",
        "outputId": "f3debf1b-0e32-4fd0-d6d1-d7370ab6bb17"
      },
      "source": [
        "#figure 1\n",
        "show_categorical_var_graph_new_ver2(nba, \"fran_id\", False)"
      ],
      "execution_count": null,
      "outputs": [
        {
          "output_type": "stream",
          "text": [
            "/usr/local/lib/python3.7/dist-packages/seaborn/_decorators.py:43: FutureWarning: Pass the following variable as a keyword arg: x. From version 0.12, the only valid positional argument will be `data`, and passing other arguments without an explicit keyword will result in an error or misinterpretation.\n",
            "  FutureWarning\n"
          ],
          "name": "stderr"
        },
        {
          "output_type": "display_data",
          "data": {
            "image/png": "[encoded data removed]",
            "text/plain": [
              "<Figure size 1440x432 with 1 Axes>"
            ]
          },
          "metadata": {
            "needs_background": "light"
          }
        }
      ]
    },
    {
      "cell_type": "code",
      "metadata": {
        "colab": {
          "base_uri": "https://localhost:8080/",
          "height": 404
        },
        "id": "jkQaBkFsxKWU",
        "outputId": "0611dbda-36e2-40e1-8f15-025f0bdc4778"
      },
      "source": [
        "# https://www.geeksforgeeks.org/args-kwargs-python/\n",
        "# figure 2\n",
        "\n",
        "show_games_byYear_df = nba.year_id.value_counts().sort_index().to_frame().reset_index()\n",
        "show_games_byYear_df.head()\n",
        "\n",
        "# TypeError: show_categorical_var_graph_new() got an unexpected keyword argument 'x'\n",
        "show_categorical_var_graph_new_ver2(nba, \"fran_id\", True, x = \"index\", y = \"year_id\", data = show_games_byYear_df)\n",
        "#plt.xticks(rotation = 90)\n",
        "#plt.show()\n"
      ],
      "execution_count": null,
      "outputs": [
        {
          "output_type": "display_data",
          "data": {
            "image/png": "[encoded data removed]",
            "text/plain": [
              "<Figure size 1440x432 with 1 Axes>"
            ]
          },
          "metadata": {
            "needs_background": "light"
          }
        }
      ]
    },
    {
      "cell_type": "code",
      "metadata": {
        "colab": {
          "base_uri": "https://localhost:8080/",
          "height": 258
        },
        "id": "2dw_sw8o_icO",
        "outputId": "3d532327-6ace-4437-f718-27a45041c3c4"
      },
      "source": [
        "#figure 3\n",
        "show_categorical_var_graph_new_ver2(nba, \"game_location\")"
      ],
      "execution_count": null,
      "outputs": [
        {
          "output_type": "display_data",
          "data": {
            "image/png": "[encoded data removed]",
            "text/plain": [
              "<Figure size 432x288 with 1 Axes>"
            ]
          },
          "metadata": {}
        }
      ]
    },
    {
      "cell_type": "code",
      "metadata": {
        "colab": {
          "base_uri": "https://localhost:8080/",
          "height": 258
        },
        "id": "EG2PbHfeBCFw",
        "outputId": "aac66c47-cb57-4fcb-dcc8-0731dd06e9e6"
      },
      "source": [
        "#figure 4\n",
        "show_categorical_var_graph_new_ver2(nba, \"game_result\")"
      ],
      "execution_count": null,
      "outputs": [
        {
          "output_type": "display_data",
          "data": {
            "image/png": "[encoded data removed]",
            "text/plain": [
              "<Figure size 432x288 with 1 Axes>"
            ]
          },
          "metadata": {}
        }
      ]
    },
    {
      "cell_type": "markdown",
      "metadata": {
        "id": "U6ZUu2lXRtMf"
      },
      "source": [
        "### Part 4 Associations Between Variables\n",
        "\n",
        "When exploring the associations, I calssify the situation into three types, and the word after colon is the method I might adopt:\n",
        "* quantiative vs. quantiative variable: covariance, scatter plot, pearson correlation coefficient\n",
        "* quantiative and (nominal) categorical variable: side-by-side boxplot, overlay histogram, mean and median comparison... \n",
        "* categorical vs. categorical varibele: contigency table, chi-square statistics, and expected contingency table\n",
        "\n"
      ]
    },
    {
      "cell_type": "code",
      "metadata": {
        "colab": {
          "base_uri": "https://localhost:8080/"
        },
        "id": "XsHgtnspILXL",
        "outputId": "f752b7c5-00d5-4f3e-8a79-5c311aa729c3"
      },
      "source": [
        "nba_2010 = nba[nba.year_id == 2010]\n",
        "nba_2010.fran_id.value_counts()"
      ],
      "execution_count": 60,
      "outputs": [
        {
          "output_type": "execute_result",
          "data": {
            "text/plain": [
              "Celtics         106\n",
              "Lakers          105\n",
              "Suns             98\n",
              "Magic            96\n",
              "Hawks            93\n",
              "Cavaliers        93\n",
              "Spurs            92\n",
              "Jazz             92\n",
              "Bucks            89\n",
              "Thunder          88\n",
              "Nuggets          88\n",
              "Mavericks        88\n",
              "Trailblazers     88\n",
              "Heat             87\n",
              "Bulls            87\n",
              "Hornets          86\n",
              "Knicks           82\n",
              "Rockets          82\n",
              "Nets             82\n",
              "Pistons          82\n",
              "Wizards          82\n",
              "Kings            82\n",
              "Grizzlies        82\n",
              "Timberwolves     82\n",
              "Pacers           82\n",
              "Raptors          82\n",
              "Warriors         82\n",
              "Sixers           82\n",
              "Clippers         82\n",
              "Pelicans         82\n",
              "Name: fran_id, dtype: int64"
            ]
          },
          "metadata": {},
          "execution_count": 60
        }
      ]
    },
    {
      "cell_type": "code",
      "metadata": {
        "colab": {
          "base_uri": "https://localhost:8080/",
          "height": 202
        },
        "id": "9xU_LHc5LT3E",
        "outputId": "0f0290aa-6813-4135-8ad3-1d599a6a964b"
      },
      "source": [
        "import numpy as np\n",
        "import pandas as pd\n",
        "from scipy.stats import pearsonr, chi2_contingency\n",
        "import matplotlib.pyplot as plt\n",
        "import seaborn as sns\n",
        "\n",
        "np.set_printoptions(suppress=True, precision = 2)\n",
        "\n",
        "# Subset Data to 2010 Season, 2014 Season\n",
        "# When selecitng rows with multple conditions, make sure to use parantheses to wrap each condition!\n",
        "nba_2010 = nba[(nba.year_id == 2010) & (nba.fran_id.isin(['Celtics', 'Knicks', 'Nets', 'Thunder', 'Spurs']))]\n",
        "nba_2014 = nba[(nba.year_id == 2014) & (nba.fran_id.isin(['Celtics', 'Knicks', 'Nets', 'Thunder', 'Spurs']))]\n",
        "\n",
        "nba_2010.head()"
      ],
      "execution_count": 65,
      "outputs": [
        {
          "output_type": "execute_result",
          "data": {
            "text/html": [
              "<div>\n",
              "<style scoped>\n",
              "    .dataframe tbody tr th:only-of-type {\n",
              "        vertical-align: middle;\n",
              "    }\n",
              "\n",
              "    .dataframe tbody tr th {\n",
              "        vertical-align: top;\n",
              "    }\n",
              "\n",
              "    .dataframe thead th {\n",
              "        text-align: right;\n",
              "    }\n",
              "</style>\n",
              "<table border=\"1\" class=\"dataframe\">\n",
              "  <thead>\n",
              "    <tr style=\"text-align: right;\">\n",
              "      <th></th>\n",
              "      <th>game_id</th>\n",
              "      <th>year_id</th>\n",
              "      <th>fran_id</th>\n",
              "      <th>opp_fran</th>\n",
              "      <th>game_location</th>\n",
              "      <th>is_playoffs</th>\n",
              "      <th>pts</th>\n",
              "      <th>opp_pts</th>\n",
              "      <th>game_result</th>\n",
              "      <th>forecast</th>\n",
              "      <th>point_diff</th>\n",
              "    </tr>\n",
              "  </thead>\n",
              "  <tbody>\n",
              "    <tr>\n",
              "      <th>111032</th>\n",
              "      <td>200910270CLE</td>\n",
              "      <td>2010</td>\n",
              "      <td>Celtics</td>\n",
              "      <td>Cavaliers</td>\n",
              "      <td>A</td>\n",
              "      <td>0</td>\n",
              "      <td>95</td>\n",
              "      <td>89</td>\n",
              "      <td>W</td>\n",
              "      <td>0.277472</td>\n",
              "      <td>6</td>\n",
              "    </tr>\n",
              "    <tr>\n",
              "      <th>111043</th>\n",
              "      <td>200910280BOS</td>\n",
              "      <td>2010</td>\n",
              "      <td>Celtics</td>\n",
              "      <td>Hornets</td>\n",
              "      <td>H</td>\n",
              "      <td>0</td>\n",
              "      <td>92</td>\n",
              "      <td>59</td>\n",
              "      <td>W</td>\n",
              "      <td>0.814619</td>\n",
              "      <td>33</td>\n",
              "    </tr>\n",
              "    <tr>\n",
              "      <th>111053</th>\n",
              "      <td>200910280MIA</td>\n",
              "      <td>2010</td>\n",
              "      <td>Knicks</td>\n",
              "      <td>Heat</td>\n",
              "      <td>A</td>\n",
              "      <td>0</td>\n",
              "      <td>93</td>\n",
              "      <td>115</td>\n",
              "      <td>L</td>\n",
              "      <td>0.258755</td>\n",
              "      <td>-22</td>\n",
              "    </tr>\n",
              "    <tr>\n",
              "      <th>111055</th>\n",
              "      <td>200910280MIN</td>\n",
              "      <td>2010</td>\n",
              "      <td>Nets</td>\n",
              "      <td>Timberwolves</td>\n",
              "      <td>A</td>\n",
              "      <td>0</td>\n",
              "      <td>93</td>\n",
              "      <td>95</td>\n",
              "      <td>L</td>\n",
              "      <td>0.475155</td>\n",
              "      <td>-2</td>\n",
              "    </tr>\n",
              "    <tr>\n",
              "      <th>111056</th>\n",
              "      <td>200910280OKC</td>\n",
              "      <td>2010</td>\n",
              "      <td>Thunder</td>\n",
              "      <td>Kings</td>\n",
              "      <td>H</td>\n",
              "      <td>0</td>\n",
              "      <td>102</td>\n",
              "      <td>89</td>\n",
              "      <td>W</td>\n",
              "      <td>0.716764</td>\n",
              "      <td>13</td>\n",
              "    </tr>\n",
              "  </tbody>\n",
              "</table>\n",
              "</div>"
            ],
            "text/plain": [
              "             game_id  year_id  fran_id  ... game_result  forecast  point_diff\n",
              "111032  200910270CLE     2010  Celtics  ...           W  0.277472           6\n",
              "111043  200910280BOS     2010  Celtics  ...           W  0.814619          33\n",
              "111053  200910280MIA     2010   Knicks  ...           L  0.258755         -22\n",
              "111055  200910280MIN     2010     Nets  ...           L  0.475155          -2\n",
              "111056  200910280OKC     2010  Thunder  ...           W  0.716764          13\n",
              "\n",
              "[5 rows x 11 columns]"
            ]
          },
          "metadata": {},
          "execution_count": 65
        }
      ]
    },
    {
      "cell_type": "code",
      "metadata": {
        "colab": {
          "base_uri": "https://localhost:8080/",
          "height": 202
        },
        "id": "zYuXoDxJLX50",
        "outputId": "7c52b019-59c7-402d-9de3-4e615b70f5d0"
      },
      "source": [
        "nba_2014.head()"
      ],
      "execution_count": 66,
      "outputs": [
        {
          "output_type": "execute_result",
          "data": {
            "text/html": [
              "<div>\n",
              "<style scoped>\n",
              "    .dataframe tbody tr th:only-of-type {\n",
              "        vertical-align: middle;\n",
              "    }\n",
              "\n",
              "    .dataframe tbody tr th {\n",
              "        vertical-align: top;\n",
              "    }\n",
              "\n",
              "    .dataframe thead th {\n",
              "        text-align: right;\n",
              "    }\n",
              "</style>\n",
              "<table border=\"1\" class=\"dataframe\">\n",
              "  <thead>\n",
              "    <tr style=\"text-align: right;\">\n",
              "      <th></th>\n",
              "      <th>game_id</th>\n",
              "      <th>year_id</th>\n",
              "      <th>fran_id</th>\n",
              "      <th>opp_fran</th>\n",
              "      <th>game_location</th>\n",
              "      <th>is_playoffs</th>\n",
              "      <th>pts</th>\n",
              "      <th>opp_pts</th>\n",
              "      <th>game_result</th>\n",
              "      <th>forecast</th>\n",
              "      <th>point_diff</th>\n",
              "    </tr>\n",
              "  </thead>\n",
              "  <tbody>\n",
              "    <tr>\n",
              "      <th>121060</th>\n",
              "      <td>201310300CLE</td>\n",
              "      <td>2014</td>\n",
              "      <td>Nets</td>\n",
              "      <td>Cavaliers</td>\n",
              "      <td>A</td>\n",
              "      <td>0</td>\n",
              "      <td>94</td>\n",
              "      <td>98</td>\n",
              "      <td>L</td>\n",
              "      <td>0.611981</td>\n",
              "      <td>-4</td>\n",
              "    </tr>\n",
              "    <tr>\n",
              "      <th>121074</th>\n",
              "      <td>201310300NYK</td>\n",
              "      <td>2014</td>\n",
              "      <td>Knicks</td>\n",
              "      <td>Bucks</td>\n",
              "      <td>H</td>\n",
              "      <td>0</td>\n",
              "      <td>90</td>\n",
              "      <td>83</td>\n",
              "      <td>W</td>\n",
              "      <td>0.793150</td>\n",
              "      <td>7</td>\n",
              "    </tr>\n",
              "    <tr>\n",
              "      <th>121082</th>\n",
              "      <td>201310300SAS</td>\n",
              "      <td>2014</td>\n",
              "      <td>Spurs</td>\n",
              "      <td>Grizzlies</td>\n",
              "      <td>H</td>\n",
              "      <td>0</td>\n",
              "      <td>101</td>\n",
              "      <td>94</td>\n",
              "      <td>W</td>\n",
              "      <td>0.692980</td>\n",
              "      <td>7</td>\n",
              "    </tr>\n",
              "    <tr>\n",
              "      <th>121085</th>\n",
              "      <td>201310300TOR</td>\n",
              "      <td>2014</td>\n",
              "      <td>Celtics</td>\n",
              "      <td>Raptors</td>\n",
              "      <td>A</td>\n",
              "      <td>0</td>\n",
              "      <td>87</td>\n",
              "      <td>93</td>\n",
              "      <td>L</td>\n",
              "      <td>0.361233</td>\n",
              "      <td>-6</td>\n",
              "    </tr>\n",
              "    <tr>\n",
              "      <th>121087</th>\n",
              "      <td>201310300UTA</td>\n",
              "      <td>2014</td>\n",
              "      <td>Thunder</td>\n",
              "      <td>Jazz</td>\n",
              "      <td>A</td>\n",
              "      <td>0</td>\n",
              "      <td>101</td>\n",
              "      <td>98</td>\n",
              "      <td>W</td>\n",
              "      <td>0.526056</td>\n",
              "      <td>3</td>\n",
              "    </tr>\n",
              "  </tbody>\n",
              "</table>\n",
              "</div>"
            ],
            "text/plain": [
              "             game_id  year_id  fran_id  ... game_result  forecast  point_diff\n",
              "121060  201310300CLE     2014     Nets  ...           L  0.611981          -4\n",
              "121074  201310300NYK     2014   Knicks  ...           W  0.793150           7\n",
              "121082  201310300SAS     2014    Spurs  ...           W  0.692980           7\n",
              "121085  201310300TOR     2014  Celtics  ...           L  0.361233          -6\n",
              "121087  201310300UTA     2014  Thunder  ...           W  0.526056           3\n",
              "\n",
              "[5 rows x 11 columns]"
            ]
          },
          "metadata": {},
          "execution_count": 66
        }
      ]
    },
    {
      "cell_type": "code",
      "metadata": {
        "colab": {
          "base_uri": "https://localhost:8080/",
          "height": 1000
        },
        "id": "7qBVQxrDqJP9",
        "outputId": "aac8fe93-a302-4a12-c2b9-ec09304d3ea0"
      },
      "source": [
        "# focus on the 2010 data\n",
        "# compare the knick to the nets with respect to points earned per game\n",
        "# We want to know whether fran_id and pts are associated (categorical variable - quantiative variable), first by using np.mean()\n",
        "knicks_pts_2010 = nba_2010.pts[nba.fran_id == \"Knicks\"]\n",
        "nets_pts_2010 = nba_2010.pts[nba.fran_id == \"Nets\"]\n",
        "diff_means_2010 = np.mean(knicks_pts_2010) - np.mean(nets_pts_2010)\n",
        "\n",
        "knicks_pts_2014 = nba_2014.pts[nba.fran_id == \"Knicks\"]\n",
        "nets_pts_2014 = nba_2014.pts[nba.fran_id == \"Nets\"]\n",
        "diff_means_2014 = np.mean(knicks_pts_2014) - np.mean(nets_pts_2014)\n",
        "\n",
        "print(\"The point mean difference between knicks and nets in 2010\", diff_means_2010)\n",
        "print(\"The point mean difference between knicks and nets in 2014\", diff_means_2014)\n",
        "\n",
        "# By overlapping histogram\n",
        "\n",
        "f1 = plt.figure(1)\n",
        "knick_hist = plt.hist(knicks_pts_2010, color = \"red\", label = \"knicks\", alpha = 0.5, density = True)\n",
        "net_hist = plt.hist(nets_pts_2010, color = \"blue\", label = \"nets\", alpha = 0.5, density = True)\n",
        "plt.legend()\n",
        "plt.show()\n",
        "\n",
        "\n",
        "# By boxplot\n",
        "# When using multiple selection criteria, make sure to use bitwise operator\n",
        "f2 = plt.figure(2)\n",
        "#df_2010_knicks_nets = nba_2010[(nba.fran_id == \"Knicks\") | (nba.fran_id == \"Nets\")]\n",
        "#print(df_2010_knicks_nets)\n",
        "sns.boxplot(data = nba_2010, x = \"fran_id\", y = \"pts\")\n",
        "plt.show()\n",
        "\n",
        "# compare the 2010 games to 2014\n",
        "\n",
        "\n",
        "f3 = plt.figure(3)\n",
        "knick_hist = plt.hist(knicks_pts_2014, color = \"red\", label = \"knicks\", alpha = 0.5, density = True)\n",
        "net_hist = plt.hist(nets_pts_2014, color = \"blue\", label = \"nets\", alpha = 0.5, density = True)\n",
        "plt.legend()\n",
        "plt.show()\n",
        "\n",
        "# focus on data in 2010\n",
        "#relationship btw franchise and point scored per game\n",
        "#Overlap bte the box and the chart suugest fran_id and pts are associated?\n",
        "f4 = plt.figure(4)\n",
        "sns.boxplot(data = nba_2010, x = \"fran_id\", y = \"pts\")\n",
        "plt.show()\n"
      ],
      "execution_count": 71,
      "outputs": [
        {
          "output_type": "stream",
          "text": [
            "The point mean difference between knicks and nets in 2010 9.731707317073173\n",
            "The point mean difference between knicks and nets in 2014 0.44706798131809933\n"
          ],
          "name": "stdout"
        },
        {
          "output_type": "display_data",
          "data": {
            "image/png": "[encoded data removed]",
            "text/plain": [
              "<Figure size 432x288 with 1 Axes>"
            ]
          },
          "metadata": {
            "needs_background": "light"
          }
        },
        {
          "output_type": "display_data",
          "data": {
            "image/png": "[encoded data removed]",
            "text/plain": [
              "<Figure size 432x288 with 1 Axes>"
            ]
          },
          "metadata": {
            "needs_background": "light"
          }
        },
        {
          "output_type": "display_data",
          "data": {
            "image/png": "[encoded data removed]",
            "text/plain": [
              "<Figure size 432x288 with 1 Axes>"
            ]
          },
          "metadata": {
            "needs_background": "light"
          }
        },
        {
          "output_type": "display_data",
          "data": {
            "image/png": "[encoded data removed]",
            "text/plain": [
              "<Figure size 432x288 with 1 Axes>"
            ]
          },
          "metadata": {
            "needs_background": "light"
          }
        }
      ]
    },
    {
      "cell_type": "code",
      "metadata": {
        "colab": {
          "base_uri": "https://localhost:8080/"
        },
        "id": "1M-bYyy0QbI2",
        "outputId": "2fa9bd9b-9467-4853-f3d8-795a6a4e881b"
      },
      "source": [
        "\n",
        "# do teams tend to win more games at home compared ot away?\n",
        "#use contigency table, then calculate the chisquare statistic baed on contingency table\n",
        "# based on the statistics, we can say that there is association btw the variables\n",
        "location_result_freq = pd.crosstab(nba_2010.game_result, nba_2010.game_location)\n",
        "print(location_result_freq)\n",
        "\n",
        "chi2_location_result = chi2_contingency(location_result_freq)[0]\n",
        "expected_location_result_freq = chi2_contingency(location_result_freq)[3]\n",
        "print(\"The chi square statistics will be {}\".format(chi2_location_result))\n",
        "print(\"The expected contogency table when there is no difference\")\n",
        "print(expected_location_result_freq)\n",
        "print(\"\\n\")\n",
        "\n",
        "#table of proportions\n",
        "location_result_pro = location_result_freq/len(nba_2010)\n",
        "print(\"Table of proportions\")\n",
        "print(location_result_pro) \n",
        "\n"
      ],
      "execution_count": 72,
      "outputs": [
        {
          "output_type": "stream",
          "text": [
            "game_location    A    H\n",
            "game_result            \n",
            "L              133  105\n",
            "W               92  120\n",
            "The chi square statistics will be 6.501704455367053\n",
            "The expected contogency table when there is no difference\n",
            "[[119. 119.]\n",
            " [106. 106.]]\n",
            "\n",
            "\n",
            "Table of proportions\n",
            "game_location         A         H\n",
            "game_result                      \n",
            "L              0.295556  0.233333\n",
            "W              0.204444  0.266667\n"
          ],
          "name": "stdout"
        }
      ]
    },
    {
      "cell_type": "code",
      "metadata": {
        "colab": {
          "base_uri": "https://localhost:8080/",
          "height": 312
        },
        "id": "Fo0h9TaJQ8mI",
        "outputId": "e1551041-fee3-4e5d-9115-2216586556ab"
      },
      "source": [
        "# does team with the higher probablity of winning also tend to win games by more points?\n",
        "# calculate covariance,plot scatter plot, and calculate pearson corrlation coefficient\n",
        "\n",
        "forecast_ptDiff_cov = np.cov(nba_2010.forecast, nba_2010.point_diff)[1][0]\n",
        "print(\"The covariance of the two variables is {}\".format(forecast_ptDiff_cov)) #slightly positive linear relationship\n",
        "\n",
        "f4 = plt.figure(5)\n",
        "plt.scatter(x = nba_2010.forecast, y = nba_2010.point_diff)\n",
        "plt.xlabel(\"forcasted win probablity\")\n",
        "plt.ylabel(\"Point Differential\")\n",
        "plt.show()\n",
        "\n",
        "forecast_ptDiff_corr, p = pearsonr(nba_2010.forecast, nba_2010.point_diff)\n",
        "print(\"The correlation coefficient between forcast and poit difference is {}\".format(forecast_ptDiff_corr)) #somewhat weak relationships\n",
        "\n"
      ],
      "execution_count": 73,
      "outputs": [
        {
          "output_type": "stream",
          "text": [
            "The covariance of the two variables is 1.3746125676458802\n"
          ],
          "name": "stdout"
        },
        {
          "output_type": "display_data",
          "data": {
            "image/png": "[encoded data removed]",
            "text/plain": [
              "<Figure size 432x288 with 1 Axes>"
            ]
          },
          "metadata": {
            "needs_background": "light"
          }
        },
        {
          "output_type": "stream",
          "text": [
            "The correlation coefficient between forcast and poit difference is 0.44020887084680815\n"
          ],
          "name": "stdout"
        }
      ]
    }
  ]
}