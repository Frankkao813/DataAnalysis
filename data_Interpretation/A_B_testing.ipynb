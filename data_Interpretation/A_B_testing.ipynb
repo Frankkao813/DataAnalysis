{
  "nbformat": 4,
  "nbformat_minor": 0,
  "metadata": {
    "colab": {
      "name": "A/B testing.ipynb",
      "provenance": [],
      "collapsed_sections": []
    },
    "kernelspec": {
      "name": "python3",
      "display_name": "Python 3"
    },
    "language_info": {
      "name": "python"
    }
  },
  "cells": [
    {
      "cell_type": "markdown",
      "metadata": {
        "id": "IX3F8Gl309Ne"
      },
      "source": [
        "### A/B testing\n",
        "\n",
        "A online store called shoeFly.com is performing an A/B test. They are testing two adds, and they want to know how different versions of ad are behaving on different websites. Let's explore the data together!"
      ]
    },
    {
      "cell_type": "code",
      "metadata": {
        "id": "sNIj0iRoOVx8",
        "colab": {
          "base_uri": "https://localhost:8080/",
          "height": 204
        },
        "outputId": "aa329c48-0bb6-406f-d7cd-2edf16a3ad10"
      },
      "source": [
        "import pandas as pd\n",
        "\n",
        "ad_clicks = pd.read_csv(\"https://raw.githubusercontent.com/Frankkao813/DataAnalysis/main/Dataset/ad_clicks.csv\")\n",
        "ad_clicks.head()"
      ],
      "execution_count": 1,
      "outputs": [
        {
          "output_type": "execute_result",
          "data": {
            "text/html": [
              "<div>\n",
              "<style scoped>\n",
              "    .dataframe tbody tr th:only-of-type {\n",
              "        vertical-align: middle;\n",
              "    }\n",
              "\n",
              "    .dataframe tbody tr th {\n",
              "        vertical-align: top;\n",
              "    }\n",
              "\n",
              "    .dataframe thead th {\n",
              "        text-align: right;\n",
              "    }\n",
              "</style>\n",
              "<table border=\"1\" class=\"dataframe\">\n",
              "  <thead>\n",
              "    <tr style=\"text-align: right;\">\n",
              "      <th></th>\n",
              "      <th>user_id</th>\n",
              "      <th>utm_source</th>\n",
              "      <th>day</th>\n",
              "      <th>ad_click_timestamp</th>\n",
              "      <th>experimental_group</th>\n",
              "    </tr>\n",
              "  </thead>\n",
              "  <tbody>\n",
              "    <tr>\n",
              "      <th>0</th>\n",
              "      <td>008b7c6c-7272-471e-b90e-930d548bd8d7</td>\n",
              "      <td>google</td>\n",
              "      <td>6 - Saturday</td>\n",
              "      <td>7:18</td>\n",
              "      <td>A</td>\n",
              "    </tr>\n",
              "    <tr>\n",
              "      <th>1</th>\n",
              "      <td>009abb94-5e14-4b6c-bb1c-4f4df7aa7557</td>\n",
              "      <td>facebook</td>\n",
              "      <td>7 - Sunday</td>\n",
              "      <td>NaN</td>\n",
              "      <td>B</td>\n",
              "    </tr>\n",
              "    <tr>\n",
              "      <th>2</th>\n",
              "      <td>00f5d532-ed58-4570-b6d2-768df5f41aed</td>\n",
              "      <td>twitter</td>\n",
              "      <td>2 - Tuesday</td>\n",
              "      <td>NaN</td>\n",
              "      <td>A</td>\n",
              "    </tr>\n",
              "    <tr>\n",
              "      <th>3</th>\n",
              "      <td>011adc64-0f44-4fd9-a0bb-f1506d2ad439</td>\n",
              "      <td>google</td>\n",
              "      <td>2 - Tuesday</td>\n",
              "      <td>NaN</td>\n",
              "      <td>B</td>\n",
              "    </tr>\n",
              "    <tr>\n",
              "      <th>4</th>\n",
              "      <td>012137e6-7ae7-4649-af68-205b4702169c</td>\n",
              "      <td>facebook</td>\n",
              "      <td>7 - Sunday</td>\n",
              "      <td>NaN</td>\n",
              "      <td>B</td>\n",
              "    </tr>\n",
              "  </tbody>\n",
              "</table>\n",
              "</div>"
            ],
            "text/plain": [
              "                                user_id  ... experimental_group\n",
              "0  008b7c6c-7272-471e-b90e-930d548bd8d7  ...                  A\n",
              "1  009abb94-5e14-4b6c-bb1c-4f4df7aa7557  ...                  B\n",
              "2  00f5d532-ed58-4570-b6d2-768df5f41aed  ...                  A\n",
              "3  011adc64-0f44-4fd9-a0bb-f1506d2ad439  ...                  B\n",
              "4  012137e6-7ae7-4649-af68-205b4702169c  ...                  B\n",
              "\n",
              "[5 rows x 5 columns]"
            ]
          },
          "metadata": {
            "tags": []
          },
          "execution_count": 1
        }
      ]
    },
    {
      "cell_type": "markdown",
      "metadata": {
        "id": "_J3uPTvd1Lji"
      },
      "source": [
        "### Q: Which platform give you the most views?\n",
        "We can use `groupby()`on utm_source to obtain the answer. By the result, people go to the shoefly website using facebook most often.   "
      ]
    },
    {
      "cell_type": "code",
      "metadata": {
        "colab": {
          "base_uri": "https://localhost:8080/"
        },
        "id": "VJ9Uiie61LQ_",
        "outputId": "2c541dd1-3744-44c8-9852-42108fa4a2ce"
      },
      "source": [
        "utm_view = ad_clicks.groupby(\"utm_source\").user_id.count().reset_index()\n",
        "utm_view_sort = utm_view.sort_values(\"user_id\",ascending = False)\n",
        "utm_view_sort.rename(columns = {\"user_id\":\"counts\"}, inplace = True)\n",
        "print(utm_view_sort)"
      ],
      "execution_count": 2,
      "outputs": [
        {
          "output_type": "stream",
          "text": [
            "  utm_source  counts\n",
            "2     google     680\n",
            "1   facebook     504\n",
            "0      email     255\n",
            "3    twitter     215\n"
          ],
          "name": "stdout"
        }
      ]
    },
    {
      "cell_type": "markdown",
      "metadata": {
        "id": "IwpeXHRI3gRc"
      },
      "source": [
        "### Q: How many people actually click the link to the website? \n",
        "\n",
        "If the user actually click an ad, there will be value in the ad_click_timestamp column instead of Nan. \n",
        "\n",
        "Steps:\n",
        "* add a `is_click` column to indicate whether the people seeing the ad actually clicks the ad.\n",
        "* use pandas groupby() and pivot() functions to answer the question\n",
        "\n"
      ]
    },
    {
      "cell_type": "code",
      "metadata": {
        "id": "hFKPW_Cc1GvP",
        "colab": {
          "base_uri": "https://localhost:8080/"
        },
        "outputId": "4bc506bb-a603-443b-bf3a-788b63ace2ca"
      },
      "source": [
        "ad_clicks[\"is_click\"] = ad_clicks.ad_click_timestamp.apply(lambda content: True if content == content else False)\n",
        "\n",
        "click_by_source = ad_clicks.groupby([\"utm_source\",\"is_click\"]).user_id.count().reset_index()\n",
        "click_by_source_pivot = click_by_source.pivot(\n",
        "    columns = \"is_click\",\n",
        "    index = \"utm_source\",\n",
        "    values = \"user_id\"\n",
        ").reset_index()\n",
        "print(click_by_source_pivot)"
      ],
      "execution_count": 3,
      "outputs": [
        {
          "output_type": "stream",
          "text": [
            "is_click utm_source  False  True\n",
            "0             email    175    80\n",
            "1          facebook    324   180\n",
            "2            google    441   239\n",
            "3           twitter    149    66\n"
          ],
          "name": "stdout"
        }
      ]
    },
    {
      "cell_type": "markdown",
      "metadata": {
        "id": "W4uTJvdy8gt0"
      },
      "source": [
        "### Q: Is there are greater percentage of user click on Ad A or Ad B?\n",
        "\n",
        "* use `df.groupby()` on `experimental_group` and `is_click` column.\n",
        "* After using pivot(), we cam do some math calculations.\n",
        "\n",
        "However, before we make any inference on the percentage, we should check whether there are the same bumber of people seeing the ad. By the `total_people` column, the people seeing the ad are approximately the same.\n"
      ]
    },
    {
      "cell_type": "code",
      "metadata": {
        "colab": {
          "base_uri": "https://localhost:8080/"
        },
        "id": "PQ21QYnj-Ovg",
        "outputId": "f54e436b-81b0-4c26-bc44-20b10a1412d1"
      },
      "source": [
        "show_AB_clicks = ad_clicks.groupby([\"experimental_group\",\"is_click\"]).user_id.count().reset_index()\n",
        "show_AB_clicks_pivot = show_AB_clicks.pivot(\n",
        "    columns = \"is_click\",\n",
        "    index = \"experimental_group\",\n",
        "    values = \"user_id\"\n",
        ").reset_index()\n",
        "show_AB_clicks_pivot[\"total_people\"] = show_AB_clicks_pivot.apply(lambda row: row[False] + row[True], axis = 1)\n",
        "show_AB_clicks_pivot[\"percentage_see\"] = show_AB_clicks_pivot[True]/(show_AB_clicks_pivot[False]+show_AB_clicks_pivot[True])\n",
        "print(show_AB_clicks_pivot)"
      ],
      "execution_count": 5,
      "outputs": [
        {
          "output_type": "stream",
          "text": [
            "is_click experimental_group  False  True  total_people  percentage_see\n",
            "0                         A    517   310           827        0.374849\n",
            "1                         B    572   255           827        0.308343\n"
          ],
          "name": "stdout"
        }
      ]
    },
    {
      "cell_type": "markdown",
      "metadata": {
        "id": "3UnzbI8U4jTH"
      },
      "source": [
        "### Q: Does the clicks change by day of the week?\n",
        "\n",
        "steps:\n",
        "* We first create a_clicks and b_clicks dataframe\n",
        "* For each dataframe, calculate the percent of users who clicked the ad by day\n",
        "* compare the result"
      ]
    },
    {
      "cell_type": "code",
      "metadata": {
        "colab": {
          "base_uri": "https://localhost:8080/"
        },
        "id": "MYILxmZN_Mw8",
        "outputId": "1af1632a-705c-4f3c-dbf1-b670e32cf154"
      },
      "source": [
        "a_clicks = ad_clicks[ad_clicks[\"experimental_group\"] == \"A\"]\n",
        "b_clicks = ad_clicks[ad_clicks.experimental_group == \"B\"]\n",
        "\n",
        "a_clicks_by_day = a_clicks.groupby([\"is_click\",\"day\"]).user_id.count().reset_index()\n",
        "b_clicks_by_day = b_clicks.groupby([\"is_click\",\"day\"]).user_id.count().reset_index()\n",
        "\n",
        "# pivot table\n",
        "a_clicks_by_day_pivot = a_clicks_by_day.pivot(\n",
        "  columns = \"is_click\",\n",
        "  index = \"day\",\n",
        "  values = \"user_id\"\n",
        ")\n",
        "\n",
        "b_clicks_by_day_pivot = b_clicks_by_day.pivot(\n",
        "  columns = \"is_click\",\n",
        "  index = \"day\",\n",
        "  values = \"user_id\"\n",
        ")\n",
        "\n",
        "a_clicks_by_day_pivot[\"percentage\"] = a_clicks_by_day_pivot[True]/(a_clicks_by_day_pivot[True] + a_clicks_by_day_pivot[False])\n",
        "print(a_clicks_by_day_pivot)\n",
        "\n"
      ],
      "execution_count": 6,
      "outputs": [
        {
          "output_type": "stream",
          "text": [
            "is_click       False  True  percentage\n",
            "day                                   \n",
            "1 - Monday        70    43    0.380531\n",
            "2 - Tuesday       76    43    0.361345\n",
            "3 - Wednesday     86    38    0.306452\n",
            "4 - Thursday      69    47    0.405172\n",
            "5 - Friday        77    51    0.398438\n",
            "6 - Saturday      73    45    0.381356\n",
            "7 - Sunday        66    43    0.394495\n"
          ],
          "name": "stdout"
        }
      ]
    },
    {
      "cell_type": "code",
      "metadata": {
        "colab": {
          "base_uri": "https://localhost:8080/"
        },
        "id": "mOBijcPo_eqo",
        "outputId": "a1b5c596-1116-4302-ffd8-b7d4cb8f7d0e"
      },
      "source": [
        "b_clicks_by_day_pivot[\"percentage\"] = b_clicks_by_day_pivot[True]/(b_clicks_by_day_pivot[True] + b_clicks_by_day_pivot[False])\n",
        "print(b_clicks_by_day_pivot)"
      ],
      "execution_count": 7,
      "outputs": [
        {
          "output_type": "stream",
          "text": [
            "is_click       False  True  percentage\n",
            "day                                   \n",
            "1 - Monday        81    32    0.283186\n",
            "2 - Tuesday       74    45    0.378151\n",
            "3 - Wednesday     89    35    0.282258\n",
            "4 - Thursday      87    29    0.250000\n",
            "5 - Friday        90    38    0.296875\n",
            "6 - Saturday      76    42    0.355932\n",
            "7 - Sunday        75    34    0.311927\n"
          ],
          "name": "stdout"
        }
      ]
    },
    {
      "cell_type": "markdown",
      "metadata": {
        "id": "6e014SVFn1ge"
      },
      "source": [
        "Having the above two pivot plot, we can do some visualization using grouped bar plot. From the result below, I would recommend A ad because the percentage of clicks is higher.\n"
      ]
    },
    {
      "cell_type": "code",
      "metadata": {
        "id": "Q1j3Vo72BUl3",
        "colab": {
          "base_uri": "https://localhost:8080/",
          "height": 295
        },
        "outputId": "09e4da68-7e85-49f2-e139-d3183c57598d"
      },
      "source": [
        "# draw grouped bar plot\n",
        "import numpy as np\n",
        "import matplotlib.pyplot as plt\n",
        "\n",
        "X = a_clicks_by_day_pivot.index\n",
        "\n",
        "X_new = []\n",
        "for i in X:\n",
        "    X_newElement = i[4:7]\n",
        "    X_new.append(X_newElement)\n",
        "\n",
        "X_axis = np.arange(len(X))\n",
        "A_percentage = a_clicks_by_day_pivot[True].tolist()\n",
        "B_percentage = b_clicks_by_day_pivot[True].tolist()\n",
        "plt.bar(X_axis - 0.2, A_percentage, 0.4, label =\"A\")\n",
        "plt.bar(X_axis + 0.2, B_percentage, 0.4, label =\"B\")\n",
        "\n",
        "plt.xticks(X_axis, X_new)\n",
        "plt.xlabel(\"day\")\n",
        "plt.ylabel(\"click counts\")\n",
        "plt.title(r\"A/B ads clicks by day\")\n",
        "plt.legend()\n",
        "plt.show()\n"
      ],
      "execution_count": 17,
      "outputs": [
        {
          "output_type": "display_data",
          "data": {
            "image/png": "[encoded data removed]",
            "text/plain": [
              "<Figure size 432x288 with 1 Axes>"
            ]
          },
          "metadata": {
            "tags": [],
            "needs_background": "light"
          }
        }
      ]
    },
    {
      "cell_type": "markdown",
      "metadata": {
        "id": "eWz1gKKKpsEr"
      },
      "source": [
        "Q: What is the composition of people clicking the A/B ads everyday?\n",
        "\n",
        "Is there a dominant platform that the user use to click into the website? We take A as an example. The desired graph will be a stacked plot.\n",
        "\n",
        "From the stacked plot, we can find that number of people click the ad on twitter is the least, which probably means that the ad isn't getting enough exposure. We should consider boosting advertisement on this social media."
      ]
    },
    {
      "cell_type": "code",
      "metadata": {
        "colab": {
          "base_uri": "https://localhost:8080/",
          "height": 204
        },
        "id": "NBUsqelkqsT1",
        "outputId": "e714bd05-ce7a-4887-f797-8cda95abbd2d"
      },
      "source": [
        "#percent stacked plot\n",
        "A_clicks_distribution = ad_clicks[(ad_clicks[\"experimental_group\"] == \"A\") & (ad_clicks[\"is_click\"] == True)]\n",
        "A_clicks_distribution.head()\n"
      ],
      "execution_count": 21,
      "outputs": [
        {
          "output_type": "execute_result",
          "data": {
            "text/html": [
              "<div>\n",
              "<style scoped>\n",
              "    .dataframe tbody tr th:only-of-type {\n",
              "        vertical-align: middle;\n",
              "    }\n",
              "\n",
              "    .dataframe tbody tr th {\n",
              "        vertical-align: top;\n",
              "    }\n",
              "\n",
              "    .dataframe thead th {\n",
              "        text-align: right;\n",
              "    }\n",
              "</style>\n",
              "<table border=\"1\" class=\"dataframe\">\n",
              "  <thead>\n",
              "    <tr style=\"text-align: right;\">\n",
              "      <th></th>\n",
              "      <th>user_id</th>\n",
              "      <th>utm_source</th>\n",
              "      <th>day</th>\n",
              "      <th>ad_click_timestamp</th>\n",
              "      <th>experimental_group</th>\n",
              "      <th>is_click</th>\n",
              "    </tr>\n",
              "  </thead>\n",
              "  <tbody>\n",
              "    <tr>\n",
              "      <th>0</th>\n",
              "      <td>008b7c6c-7272-471e-b90e-930d548bd8d7</td>\n",
              "      <td>google</td>\n",
              "      <td>6 - Saturday</td>\n",
              "      <td>7:18</td>\n",
              "      <td>A</td>\n",
              "      <td>True</td>\n",
              "    </tr>\n",
              "    <tr>\n",
              "      <th>8</th>\n",
              "      <td>018cea61-19ea-4119-895b-1a4309ccb148</td>\n",
              "      <td>email</td>\n",
              "      <td>1 - Monday</td>\n",
              "      <td>18:33</td>\n",
              "      <td>A</td>\n",
              "      <td>True</td>\n",
              "    </tr>\n",
              "    <tr>\n",
              "      <th>18</th>\n",
              "      <td>041deef8-b242-4114-afd0-e584784ec9f0</td>\n",
              "      <td>google</td>\n",
              "      <td>3 - Wednesday</td>\n",
              "      <td>10:54</td>\n",
              "      <td>A</td>\n",
              "      <td>True</td>\n",
              "    </tr>\n",
              "    <tr>\n",
              "      <th>21</th>\n",
              "      <td>0441f866-dd3f-422a-a36a-cdc2f034e6ef</td>\n",
              "      <td>google</td>\n",
              "      <td>7 - Sunday</td>\n",
              "      <td>11:16</td>\n",
              "      <td>A</td>\n",
              "      <td>True</td>\n",
              "    </tr>\n",
              "    <tr>\n",
              "      <th>23</th>\n",
              "      <td>0482e1ab-b513-4bfb-9914-9fb5ab41c915</td>\n",
              "      <td>twitter</td>\n",
              "      <td>6 - Saturday</td>\n",
              "      <td>1:20</td>\n",
              "      <td>A</td>\n",
              "      <td>True</td>\n",
              "    </tr>\n",
              "  </tbody>\n",
              "</table>\n",
              "</div>"
            ],
            "text/plain": [
              "                                 user_id  ... is_click\n",
              "0   008b7c6c-7272-471e-b90e-930d548bd8d7  ...     True\n",
              "8   018cea61-19ea-4119-895b-1a4309ccb148  ...     True\n",
              "18  041deef8-b242-4114-afd0-e584784ec9f0  ...     True\n",
              "21  0441f866-dd3f-422a-a36a-cdc2f034e6ef  ...     True\n",
              "23  0482e1ab-b513-4bfb-9914-9fb5ab41c915  ...     True\n",
              "\n",
              "[5 rows x 6 columns]"
            ]
          },
          "metadata": {
            "tags": []
          },
          "execution_count": 21
        }
      ]
    },
    {
      "cell_type": "code",
      "metadata": {
        "colab": {
          "base_uri": "https://localhost:8080/",
          "height": 204
        },
        "id": "J8BrJASxsJ75",
        "outputId": "b9d5398b-f993-497c-d852-9731970ffecc"
      },
      "source": [
        "B_clicks_distribution = ad_clicks[(ad_clicks[\"experimental_group\"] == \"B\") & (ad_clicks[\"is_click\"] == True)]\n",
        "B_clicks_distribution.head()\n"
      ],
      "execution_count": 22,
      "outputs": [
        {
          "output_type": "execute_result",
          "data": {
            "text/html": [
              "<div>\n",
              "<style scoped>\n",
              "    .dataframe tbody tr th:only-of-type {\n",
              "        vertical-align: middle;\n",
              "    }\n",
              "\n",
              "    .dataframe tbody tr th {\n",
              "        vertical-align: top;\n",
              "    }\n",
              "\n",
              "    .dataframe thead th {\n",
              "        text-align: right;\n",
              "    }\n",
              "</style>\n",
              "<table border=\"1\" class=\"dataframe\">\n",
              "  <thead>\n",
              "    <tr style=\"text-align: right;\">\n",
              "      <th></th>\n",
              "      <th>user_id</th>\n",
              "      <th>utm_source</th>\n",
              "      <th>day</th>\n",
              "      <th>ad_click_timestamp</th>\n",
              "      <th>experimental_group</th>\n",
              "      <th>is_click</th>\n",
              "    </tr>\n",
              "  </thead>\n",
              "  <tbody>\n",
              "    <tr>\n",
              "      <th>9</th>\n",
              "      <td>01a210c3-fde0-4e6f-8efd-4f0e38730ae6</td>\n",
              "      <td>email</td>\n",
              "      <td>2 - Tuesday</td>\n",
              "      <td>15:21</td>\n",
              "      <td>B</td>\n",
              "      <td>True</td>\n",
              "    </tr>\n",
              "    <tr>\n",
              "      <th>11</th>\n",
              "      <td>01ae0361-7d17-4760-a2c8-23977a46fb78</td>\n",
              "      <td>facebook</td>\n",
              "      <td>4 - Thursday</td>\n",
              "      <td>7:11</td>\n",
              "      <td>B</td>\n",
              "      <td>True</td>\n",
              "    </tr>\n",
              "    <tr>\n",
              "      <th>26</th>\n",
              "      <td>05aec9ea-92c1-4ffc-84b5-c3864dd307e4</td>\n",
              "      <td>facebook</td>\n",
              "      <td>5 - Friday</td>\n",
              "      <td>8:46</td>\n",
              "      <td>B</td>\n",
              "      <td>True</td>\n",
              "    </tr>\n",
              "    <tr>\n",
              "      <th>45</th>\n",
              "      <td>083e3bbf-abe4-418c-8b17-7ac77b436ab1</td>\n",
              "      <td>google</td>\n",
              "      <td>2 - Tuesday</td>\n",
              "      <td>3:21</td>\n",
              "      <td>B</td>\n",
              "      <td>True</td>\n",
              "    </tr>\n",
              "    <tr>\n",
              "      <th>71</th>\n",
              "      <td>0dd20a2e-cb05-46c7-b14a-2e4a54d3dca3</td>\n",
              "      <td>twitter</td>\n",
              "      <td>3 - Wednesday</td>\n",
              "      <td>10:24</td>\n",
              "      <td>B</td>\n",
              "      <td>True</td>\n",
              "    </tr>\n",
              "  </tbody>\n",
              "</table>\n",
              "</div>"
            ],
            "text/plain": [
              "                                 user_id  ... is_click\n",
              "9   01a210c3-fde0-4e6f-8efd-4f0e38730ae6  ...     True\n",
              "11  01ae0361-7d17-4760-a2c8-23977a46fb78  ...     True\n",
              "26  05aec9ea-92c1-4ffc-84b5-c3864dd307e4  ...     True\n",
              "45  083e3bbf-abe4-418c-8b17-7ac77b436ab1  ...     True\n",
              "71  0dd20a2e-cb05-46c7-b14a-2e4a54d3dca3  ...     True\n",
              "\n",
              "[5 rows x 6 columns]"
            ]
          },
          "metadata": {
            "tags": []
          },
          "execution_count": 22
        }
      ]
    },
    {
      "cell_type": "code",
      "metadata": {
        "colab": {
          "base_uri": "https://localhost:8080/",
          "height": 190
        },
        "id": "pG--KjEusU62",
        "outputId": "4fbad019-7471-4e94-8228-5b722d68142c"
      },
      "source": [
        "A_clicks_distribution_day = A_clicks_distribution.groupby([\"utm_source\", \"day\"]).user_id.count().reset_index()\n",
        "B_clicks_distribution_day = B_clicks_distribution.groupby([\"utm_source\", \"day\"]).user_id.count().reset_index()\n",
        "A_clicks_distribution_day_pivot = A_clicks_distribution_day.pivot(\n",
        "    columns = \"day\",\n",
        "    index = \"utm_source\",\n",
        "    values= \"user_id\"\n",
        ").reset_index()\n",
        "A_clicks_distribution_day_pivot[\"total\"] = A_clicks_distribution_day_pivot.sum(axis =1)\n",
        "\n",
        "A_clicks_distribution_day_pivot"
      ],
      "execution_count": 44,
      "outputs": [
        {
          "output_type": "execute_result",
          "data": {
            "text/html": [
              "<div>\n",
              "<style scoped>\n",
              "    .dataframe tbody tr th:only-of-type {\n",
              "        vertical-align: middle;\n",
              "    }\n",
              "\n",
              "    .dataframe tbody tr th {\n",
              "        vertical-align: top;\n",
              "    }\n",
              "\n",
              "    .dataframe thead th {\n",
              "        text-align: right;\n",
              "    }\n",
              "</style>\n",
              "<table border=\"1\" class=\"dataframe\">\n",
              "  <thead>\n",
              "    <tr style=\"text-align: right;\">\n",
              "      <th>day</th>\n",
              "      <th>utm_source</th>\n",
              "      <th>1 - Monday</th>\n",
              "      <th>2 - Tuesday</th>\n",
              "      <th>3 - Wednesday</th>\n",
              "      <th>4 - Thursday</th>\n",
              "      <th>5 - Friday</th>\n",
              "      <th>6 - Saturday</th>\n",
              "      <th>7 - Sunday</th>\n",
              "      <th>total</th>\n",
              "    </tr>\n",
              "  </thead>\n",
              "  <tbody>\n",
              "    <tr>\n",
              "      <th>0</th>\n",
              "      <td>email</td>\n",
              "      <td>10</td>\n",
              "      <td>7</td>\n",
              "      <td>7</td>\n",
              "      <td>2</td>\n",
              "      <td>4</td>\n",
              "      <td>5</td>\n",
              "      <td>6</td>\n",
              "      <td>41</td>\n",
              "    </tr>\n",
              "    <tr>\n",
              "      <th>1</th>\n",
              "      <td>facebook</td>\n",
              "      <td>15</td>\n",
              "      <td>13</td>\n",
              "      <td>12</td>\n",
              "      <td>13</td>\n",
              "      <td>14</td>\n",
              "      <td>14</td>\n",
              "      <td>13</td>\n",
              "      <td>94</td>\n",
              "    </tr>\n",
              "    <tr>\n",
              "      <th>2</th>\n",
              "      <td>google</td>\n",
              "      <td>17</td>\n",
              "      <td>19</td>\n",
              "      <td>13</td>\n",
              "      <td>25</td>\n",
              "      <td>26</td>\n",
              "      <td>19</td>\n",
              "      <td>18</td>\n",
              "      <td>137</td>\n",
              "    </tr>\n",
              "    <tr>\n",
              "      <th>3</th>\n",
              "      <td>twitter</td>\n",
              "      <td>1</td>\n",
              "      <td>4</td>\n",
              "      <td>6</td>\n",
              "      <td>7</td>\n",
              "      <td>7</td>\n",
              "      <td>7</td>\n",
              "      <td>6</td>\n",
              "      <td>38</td>\n",
              "    </tr>\n",
              "  </tbody>\n",
              "</table>\n",
              "</div>"
            ],
            "text/plain": [
              "day utm_source  1 - Monday  2 - Tuesday  ...  6 - Saturday  7 - Sunday  total\n",
              "0        email          10            7  ...             5           6     41\n",
              "1     facebook          15           13  ...            14          13     94\n",
              "2       google          17           19  ...            19          18    137\n",
              "3      twitter           1            4  ...             7           6     38\n",
              "\n",
              "[4 rows x 9 columns]"
            ]
          },
          "metadata": {
            "tags": []
          },
          "execution_count": 44
        }
      ]
    },
    {
      "cell_type": "code",
      "metadata": {
        "colab": {
          "base_uri": "https://localhost:8080/",
          "height": 319
        },
        "id": "0ul2woqLvhaH",
        "outputId": "162de623-c692-43a3-8ff5-c2c3b18fbebb"
      },
      "source": [
        "import matplotlib.pyplot as plt\n",
        "import numpy as np\n",
        "matrix = []\n",
        "for i in range(4):\n",
        "    utm_day = np.array(A_clicks_distribution_day_pivot.iloc[i,1:].tolist())\n",
        "    matrix.append(utm_day)\n",
        "\n",
        "#plot bars in stack\n",
        "plt.bar(X_new, matrix[0], color = 'r')\n",
        "plt.bar(X_new, matrix[1], bottom= matrix[0], color=\"b\")\n",
        "plt.bar(X_new, matrix[2], bottom = matrix[0]+matrix[1], color = \"y\")\n",
        "plt.bar(X_new, matrix[3], bottom=matrix[0]+matrix[1]+matrix[2], color = \"g\")\n",
        "plt.legend([\"email\", \"facebook\", \"google\", \"twitter\"])"
      ],
      "execution_count": 43,
      "outputs": [
        {
          "output_type": "stream",
          "text": [
            "[array([10,  7,  7,  2,  4,  5,  6]), array([15, 13, 12, 13, 14, 14, 13]), array([17, 19, 13, 25, 26, 19, 18]), array([1, 4, 6, 7, 7, 7, 6])]\n"
          ],
          "name": "stdout"
        },
        {
          "output_type": "execute_result",
          "data": {
            "text/plain": [
              "<matplotlib.legend.Legend at 0x7f6affef99d0>"
            ]
          },
          "metadata": {
            "tags": []
          },
          "execution_count": 43
        },
        {
          "output_type": "display_data",
          "data": {
            "image/png": "[encoded data removed]",
            "text/plain": [
              "<Figure size 432x288 with 1 Axes>"
            ]
          },
          "metadata": {
            "tags": [],
            "needs_background": "light"
          }
        }
      ]
    }
  ]
}