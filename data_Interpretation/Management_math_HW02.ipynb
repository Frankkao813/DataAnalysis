{
 "cells": [
  {
   "cell_type": "markdown",
   "metadata": {},
   "source": [
    "### MM_HW02 B07102052 高維謙\n",
    "\n",
    "background: It is the assignment of management mathematics course offered by department of information management. The course assignment material is usually not directly related to the course, and students are required to do self-learning to finish the assignment. \n",
    "\n",
    "The instructions for this assignment is in the link below:\n",
    "shorturl.at/boDI1 (`MM_Assignmnet_02_2022.pdf`)\n"
   ]
  },
  {
   "cell_type": "markdown",
   "metadata": {},
   "source": [
    "### Preparation\n",
    "Prepare the required package and the needed parameters."
   ]
  },
  {
   "cell_type": "code",
   "execution_count": 17,
   "metadata": {},
   "outputs": [],
   "source": [
    "import numpy as np\n",
    "import matplotlib.pyplot as plt\n",
    "import pandas as pd\n",
    "import statsmodels.api as sm\n",
    "N = 2000\n",
    "mu = 3.5\n",
    "sd = 0.5"
   ]
  },
  {
   "cell_type": "markdown",
   "metadata": {},
   "source": [
    "### Q1-a\n",
    "In this question, we are asked to generate four datasets: \n",
    "1. `high school math GPA`: 2.0 - 4.0, continuous\n",
    "2. `(binary variable)high school calculus status`: 1 -yes, 0-no\n",
    "3. `(binary variable) ntu precalculus status`: 1-yes, 0-no\n",
    "4. `ntu calculus 1 gpa`: 0.0, 0.7 - 4.0 in 0.1 increments\n",
    "\n",
    "In 2, 3, binomial distributions are used, and different probabilities will be applied in 2,3. For instance, in 2, we have to contain the following information. In order to obtain probability, I will first construct a probability array `prob_precalc`, then stuff it into `np.random.binomial()`\n",
    "\n",
    "```\n",
    "# simulate previous calculus in high school:\n",
    "# - 75% of people with HS math GPAs over 3.6 took HS calculus\n",
    "# - 40% of people with HS math GPAs under 3.6 took HS calculus\n",
    "# binomial data with 1 trial per student, probabilities as above\n",
    "\n",
    "```\n",
    "\n",
    "In 4, generate the dataset by using the below equation, then round to the nearest 0.1 to satisfy the requirement of the question.\n",
    "\\begin{equation}\n",
    "\\text{ntu Calculus I grade}_{i} = 0.3 + 0.7 * \\text{HS math GPA}_i + 0.3* \\text{HS calculus}_i + 0.1 * \\text{ntu precalculus}_i + \\epsilon_i \\sim Normal(mean = 0, SD = 0.5)\n",
    "\\end{equation}\n"
   ]
  },
  {
   "cell_type": "code",
   "execution_count": 18,
   "metadata": {},
   "outputs": [],
   "source": [
    "# preparing hs_math_gpa data\n",
    "hs_math_gpa = np.random.normal(mu, sd, N)\n",
    "# truncate\n",
    "for idx, ele in enumerate(hs_math_gpa):\n",
    "    if(hs_math_gpa[idx] < 2.0):\n",
    "        hs_math_gpa[idx] = 2.0\n",
    "    elif(hs_math_gpa[idx] > 4.0):\n",
    "        hs_math_gpa[idx] = 4.0\n",
    "    else:\n",
    "        continue\n",
    "\n",
    "\n",
    "# prepare hs_calculus data\n",
    "prob_hs_calc = []\n",
    "for i in range(len(hs_math_gpa)):\n",
    "    if(hs_math_gpa[i] >= 3.6):\n",
    "        prob_hs_calc.append(0.75)\n",
    "    else:\n",
    "        prob_hs_calc.append(0.40)\n",
    "\n",
    "hs_calculus = np.random.binomial(1, prob_hs_calc, N) \n",
    "\n",
    "# prepare ntu_precalc data\n",
    "prob_precalc = []\n",
    "for i in range(len(hs_math_gpa)):\n",
    "    if(hs_calculus[i] == 0): # no high school calculus\n",
    "        prob_precalc.append(0.7)\n",
    "    else: # with high school calculus\n",
    "        if(hs_math_gpa[i] < 3.5):\n",
    "            prob_precalc.append(0.60)\n",
    "        else:\n",
    "            prob_precalc.append(0.25)\n",
    "ntu_precalc = np.random.binomial(1, prob_precalc, N) \n",
    "#print(ntu_precalc)\n",
    "\n",
    "# prepare NTU calculus 1 GPA data\n",
    "error = np.random.normal(0, sd, N)\n",
    "true_beta = {\"intercept\": 0.3, \"hs_math_gpa\": 0.7, \n",
    "            \"hs_calculus\": 0.3, \"ntu_precalc\": 0.1}\n",
    "ntu_calculus_gpa = true_beta[\"intercept\"] + true_beta[\"hs_math_gpa\"] * hs_math_gpa + true_beta[\"hs_calculus\"]* hs_calculus + \\\n",
    "                    true_beta[\"ntu_precalc\"]*ntu_precalc + error\n",
    "\n",
    "# round\n",
    "for i in range(len(ntu_calculus_gpa)):\n",
    "    ntu_calculus_gpa[i] = round(ntu_calculus_gpa[i], 1)\n",
    "    if(ntu_calculus_gpa[i] > 4.0):\n",
    "        ntu_calculus_gpa[i] = 4.0\n",
    "    elif(ntu_calculus_gpa[i] < 0.7):\n",
    "        ntu_calculus_gpa[i] = 0.7\n",
    "    else:\n",
    "        continue\n",
    "\n"
   ]
  },
  {
   "cell_type": "markdown",
   "metadata": {},
   "source": [
    "discussion:\n",
    "\n",
    "We can draw the graphs about the `ntu calculus I gpa distribution` and `error distribution`. We can see that gpa distributions skew to the left, and error distributions appears approximately normal."
   ]
  },
  {
   "cell_type": "code",
   "execution_count": 19,
   "metadata": {},
   "outputs": [
    {
     "data": {
      "image/png": "[encoded data removed]",
      "text/plain": [
       "<Figure size 432x288 with 1 Axes>"
      ]
     },
     "metadata": {
      "needs_background": "light"
     },
     "output_type": "display_data"
    },
    {
     "data": {
      "image/png": "[encoded data removed]",
      "text/plain": [
       "<Figure size 432x288 with 1 Axes>"
      ]
     },
     "metadata": {
      "needs_background": "light"
     },
     "output_type": "display_data"
    }
   ],
   "source": [
    "plt.hist(ntu_calculus_gpa, bins = 50)\n",
    "plt.title(\"NTU calculus I gpa distribution\")\n",
    "plt.show()\n",
    "\n",
    "plt.hist(error, bins = 100)\n",
    "plt.title(\"NTU calculus I error distribution\")\n",
    "plt.show()"
   ]
  },
  {
   "cell_type": "markdown",
   "metadata": {},
   "source": [
    "### Q1-b\n",
    "The question requires us to fit the datasets using multiple regression methods. \n",
    "\n",
    "Steps:\n",
    "1. constructing dataframe using `pd.DataFrame()`\n",
    "2. use `sm.OLS.from_formula()`  and `model.params` to obtain the coeffecients.\n",
    "\n",
    "The result is in the second code cell in Q1-b. The coefficient is close to the true value as stated in Q1-a"
   ]
  },
  {
   "cell_type": "code",
   "execution_count": 20,
   "metadata": {},
   "outputs": [
    {
     "data": {
      "text/html": [
       "<div>\n",
       "<style scoped>\n",
       "    .dataframe tbody tr th:only-of-type {\n",
       "        vertical-align: middle;\n",
       "    }\n",
       "\n",
       "    .dataframe tbody tr th {\n",
       "        vertical-align: top;\n",
       "    }\n",
       "\n",
       "    .dataframe thead th {\n",
       "        text-align: right;\n",
       "    }\n",
       "</style>\n",
       "<table border=\"1\" class=\"dataframe\">\n",
       "  <thead>\n",
       "    <tr style=\"text-align: right;\">\n",
       "      <th></th>\n",
       "      <th>hs_math_gpa</th>\n",
       "      <th>hs_calculus</th>\n",
       "      <th>ntu_precalc</th>\n",
       "      <th>error</th>\n",
       "      <th>ntu_calculus_gpa</th>\n",
       "    </tr>\n",
       "  </thead>\n",
       "  <tbody>\n",
       "    <tr>\n",
       "      <th>0</th>\n",
       "      <td>4.000000</td>\n",
       "      <td>0</td>\n",
       "      <td>1</td>\n",
       "      <td>1.052097</td>\n",
       "      <td>4.0</td>\n",
       "    </tr>\n",
       "    <tr>\n",
       "      <th>1</th>\n",
       "      <td>3.305898</td>\n",
       "      <td>1</td>\n",
       "      <td>0</td>\n",
       "      <td>-0.662202</td>\n",
       "      <td>2.3</td>\n",
       "    </tr>\n",
       "    <tr>\n",
       "      <th>2</th>\n",
       "      <td>3.745060</td>\n",
       "      <td>1</td>\n",
       "      <td>0</td>\n",
       "      <td>-0.001101</td>\n",
       "      <td>3.2</td>\n",
       "    </tr>\n",
       "    <tr>\n",
       "      <th>3</th>\n",
       "      <td>3.711094</td>\n",
       "      <td>1</td>\n",
       "      <td>0</td>\n",
       "      <td>0.245332</td>\n",
       "      <td>3.4</td>\n",
       "    </tr>\n",
       "    <tr>\n",
       "      <th>4</th>\n",
       "      <td>3.733717</td>\n",
       "      <td>1</td>\n",
       "      <td>0</td>\n",
       "      <td>0.386334</td>\n",
       "      <td>3.6</td>\n",
       "    </tr>\n",
       "  </tbody>\n",
       "</table>\n",
       "</div>"
      ],
      "text/plain": [
       "   hs_math_gpa  hs_calculus  ntu_precalc     error  ntu_calculus_gpa\n",
       "0     4.000000            0            1  1.052097               4.0\n",
       "1     3.305898            1            0 -0.662202               2.3\n",
       "2     3.745060            1            0 -0.001101               3.2\n",
       "3     3.711094            1            0  0.245332               3.4\n",
       "4     3.733717            1            0  0.386334               3.6"
      ]
     },
     "execution_count": 20,
     "metadata": {},
     "output_type": "execute_result"
    }
   ],
   "source": [
    "# construct dataframe\n",
    "# the result seems to be a little bit weird?\n",
    "data = {\n",
    "    \"hs_math_gpa\": hs_math_gpa,\n",
    "    \"hs_calculus\": hs_calculus,\n",
    "    \"ntu_precalc\": ntu_precalc,\n",
    "    \"error\": error,\n",
    "    \"ntu_calculus_gpa\": ntu_calculus_gpa \n",
    "}\n",
    "df = pd.DataFrame(data)\n",
    "df.head()\n"
   ]
  },
  {
   "cell_type": "code",
   "execution_count": 21,
   "metadata": {},
   "outputs": [
    {
     "name": "stdout",
     "output_type": "stream",
     "text": [
      "Intercept      0.371928\n",
      "hs_math_gpa    0.672928\n",
      "hs_calculus    0.286466\n",
      "ntu_precalc    0.113415\n",
      "dtype: float64\n"
     ]
    }
   ],
   "source": [
    "model1 = sm.OLS.from_formula('ntu_calculus_gpa~ hs_math_gpa + hs_calculus + ntu_precalc', data = df).fit()\n",
    "print(model1.params)"
   ]
  },
  {
   "cell_type": "markdown",
   "metadata": {},
   "source": [
    "### Q1-c\n",
    "We are asked to set up the matrix X and variable y, where\n",
    "$$\n",
    "X=\n",
    "\\begin{bmatrix}\n",
    "1 & x_{11} & x_{12} & x_{13} \\\\\n",
    "1 & x_{21} & x_{22} & x_{23} \\\\\n",
    "1 & x_{31} & x_{32} & x_{33} \\\\\n",
    "...&...    &...     &...     \\\\\n",
    "1 & x_{2000,1} & x_{2000,2} & x_{2000,3} \\\\\n",
    "\\end{bmatrix}\n",
    "$$\n",
    "\n",
    "$$\n",
    "y=\n",
    "\\begin{bmatrix}\n",
    "y_1\\\\\n",
    "y_2\\\\\n",
    "y_3\\\\\n",
    "...\\\\\n",
    "y_{2000}\n",
    "\\end{bmatrix}\n",
    "$$\n",
    "\n",
    "Steps:\n",
    "1. prepare the intercept and the independent variable datasets\n",
    "2. construct a matrix using `np.vstack()`, then transpose. The result is stored into A\n",
    "3. stuff ntu calculus gpa dataset into Y variable"
   ]
  },
  {
   "cell_type": "code",
   "execution_count": 22,
   "metadata": {},
   "outputs": [
    {
     "name": "stdout",
     "output_type": "stream",
     "text": [
      "(2000, 4)\n"
     ]
    }
   ],
   "source": [
    "# setting up the matrix X\n",
    "intercept_data = [1]* 2000\n",
    "X = np.vstack((intercept_data, hs_math_gpa, hs_calculus, ntu_precalc)).T\n",
    "print(X.shape)\n",
    "Y = ntu_calculus_gpa # the transpose of the array will not change"
   ]
  },
  {
   "cell_type": "markdown",
   "metadata": {},
   "source": [
    "### Q 1-d\n",
    "In this question, we have to compute three values: (let C = $ X^T X $). The way to calculate the values are listed below each bullet points.\n",
    "* $C^{-1}$:\n",
    "First calculate C using `np.dot()`, then inverse it using `np.linalg.inv()`\n",
    "* $adj(C)$:\n",
    "This one is a little bit tricky, because there is no function directly corresponding to adjoint matrix.\n",
    "\n",
    "We derive the equation as follows:\n",
    "\\begin{equation}\n",
    "A^{-1} = Adj(A) / det(A)\n",
    "\\end{equation}\n",
    "\\begin{equation}\n",
    "Adj(A) = (cofactor(A))^T\n",
    "\\end{equation}\n",
    "\n",
    "\\begin{equation}\n",
    "A^{-1} = (1/det(A)) * (cofactor(A))^T\n",
    "\\end{equation}\n",
    "\n",
    "\\begin{equation}\n",
    "(cofactor(A))^T = det(A) * A^{-1}\n",
    "\\end{equation}\n",
    "\n",
    "* det(C): `np.linalg.det()`\n",
    "\n",
    "\n",
    "discussion:\n",
    "* about the matrix size: size of  $X^T$:(2000 * 4), $X$: (4* 2000), and the size after multiplication is (4*4), which corresponds to the size in the output cell.\n",
    "\n",
    "\n",
    "source: \n",
    "* How to Find cofactor of a matrix using Numpy\n",
    "https://www.geeksforgeeks.org/how-to-find-cofactor-of-a-matrix-using-numpy/\n",
    "\n"
   ]
  },
  {
   "cell_type": "code",
   "execution_count": 23,
   "metadata": {},
   "outputs": [
    {
     "name": "stdout",
     "output_type": "stream",
     "text": [
      "the determinant of C\n",
      "140385679387.9601\n",
      "_____________________________\n",
      "the adjoint of C\n",
      "[[ 5.53009727e+09 -1.50599881e+09  2.54431561e+07 -5.08154126e+08]\n",
      " [-1.50599881e+09  4.34709504e+08 -7.46152977e+07  8.14027140e+07]\n",
      " [ 2.54431561e+07 -7.46152977e+07  3.35495448e+08  9.91708610e+07]\n",
      " [-5.08154126e+08  8.14027140e+07  9.91708610e+07  3.35905975e+08]]\n",
      "______________________________\n",
      "inverse of C\n",
      "[[ 0.03939218 -0.01072758  0.00018124 -0.0036197 ]\n",
      " [-0.01072758  0.00309654 -0.0005315   0.00057985]\n",
      " [ 0.00018124 -0.0005315   0.00238981  0.00070642]\n",
      " [-0.0036197   0.00057985  0.00070642  0.00239274]]\n"
     ]
    }
   ],
   "source": [
    "# compute matrix quantities (X^T X)^(-1)\n",
    "C = np.dot(X.T, X)\n",
    "C_with_inv = np.linalg.inv(C) # with inverse\n",
    "det_C = np.linalg.det(C)\n",
    "adj_C = C_with_inv.T * det_C\n",
    "print(\"the determinant of C\")\n",
    "print(det_C)\n",
    "print(\"_____________________________\")\n",
    "print(\"the adjoint of C\")\n",
    "print(adj_C)\n",
    "print(\"______________________________\")\n",
    "print(\"inverse of C\")\n",
    "print(C_with_inv)"
   ]
  },
  {
   "cell_type": "markdown",
   "metadata": {},
   "source": [
    "### Q1-e\n",
    "We are aked to compute the following values\n",
    "* beta:\n",
    "\\begin{equation} \n",
    "\\hat\\beta = (X^TX)^{-1}X^Ty\n",
    "\\end{equation} \n",
    "\n",
    "* residuals:\n",
    "\\begin{equation} \n",
    "\\hat\\sigma^2 = \\frac{(y-X\\hat\\beta)^T(y-X\\hat\\beta)}{(n-p-1)}\n",
    "\\end{equation}\n",
    "\n",
    "* standard error of the covariance matrix:\n",
    "\\begin{equation}\n",
    "\\hat{var}(\\hat\\beta) = \\hat\\sigma^2(X^TX)^{-1}\n",
    "\\end{equation} \n",
    "\n",
    "discussion:\n",
    "\n",
    "The diagonal term of the `var_beta` below corresponds to to the variance of each coefficient. \n",
    "$$cov(X, X) = var(x)$$\n",
    "One can square the diagonal terms to get the standard error of each coefficient."
   ]
  },
  {
   "cell_type": "code",
   "execution_count": 24,
   "metadata": {},
   "outputs": [
    {
     "name": "stdout",
     "output_type": "stream",
     "text": [
      "the result of beta matrix\n",
      "[0.371928   0.67292813 0.28646624 0.11341463]\n",
      "--------------------------\n",
      "the result of residual noise:\n",
      "0.24062232200910832\n",
      "----------------------------------\n",
      "covariance for linear regression coeffecient estimate\n",
      "[[ 9.47863666e-03 -2.58129556e-03  4.36097992e-05 -8.70980760e-04]\n",
      " [-2.58129556e-03  7.45096015e-04 -1.27891294e-04  1.39524987e-04]\n",
      " [ 4.36097992e-05 -1.27891294e-04  5.75042227e-04  1.69979751e-04]\n",
      " [-8.70980760e-04  1.39524987e-04  1.69979751e-04  5.75745874e-04]]\n",
      "----------------------------------------------\n",
      "standard error for each coefficient\n",
      "[0.09735829 0.02729645 0.02398004 0.02399471]\n"
     ]
    }
   ],
   "source": [
    "# calculate beta matrix\n",
    "mid_prod = np.dot(X.T, Y)\n",
    "beta_matrix = np.dot(C_with_inv, mid_prod)\n",
    "print(\"the result of beta matrix\")\n",
    "print(beta_matrix)\n",
    "print(\"--------------------------\")\n",
    "\n",
    "# y - X * beta_matrix\n",
    "prod1 = (Y - np.dot(X, beta_matrix)).T\n",
    "prod2 = Y - np.dot(X, beta_matrix)\n",
    "residual_noise = np.dot(prod1, prod2)/(N - 3 - 1)\n",
    "print(\"the result of residual noise:\")\n",
    "print(residual_noise) \n",
    "print(\"----------------------------------\")\n",
    "\n",
    "var_beta = residual_noise *C_with_inv\n",
    "print(\"covariance for linear regression coeffecient estimate\")\n",
    "print(var_beta)\n",
    "print(\"----------------------------------------------\")\n",
    "\n",
    "# take the square root of var(beta) to get the standard errors for each coefficient\n",
    "beta_SE = np.diag(var_beta, k = 0) ** 0.5\n",
    "print(\"standard error for each coefficient\")\n",
    "print(beta_SE)\n",
    "\n",
    "\n"
   ]
  },
  {
   "cell_type": "markdown",
   "metadata": {},
   "source": [
    "### Q1-f\n",
    "The result is already computed in Q1-e. We can make the following table to compare coefficients, which are shown in the following code cell result.\n",
    "\n",
    "From the result, we can find that the the value calculated by manual and lm is the same, and are slightly different from the true value because of the error term added into the function ($\\epsilon_i \\sim Normal(0, 0.5)$)\n"
   ]
  },
  {
   "cell_type": "code",
   "execution_count": 25,
   "metadata": {},
   "outputs": [
    {
     "data": {
      "text/html": [
       "<div>\n",
       "<style scoped>\n",
       "    .dataframe tbody tr th:only-of-type {\n",
       "        vertical-align: middle;\n",
       "    }\n",
       "\n",
       "    .dataframe tbody tr th {\n",
       "        vertical-align: top;\n",
       "    }\n",
       "\n",
       "    .dataframe thead th {\n",
       "        text-align: right;\n",
       "    }\n",
       "</style>\n",
       "<table border=\"1\" class=\"dataframe\">\n",
       "  <thead>\n",
       "    <tr style=\"text-align: right;\">\n",
       "      <th></th>\n",
       "      <th>Truth</th>\n",
       "      <th>Manual</th>\n",
       "      <th>lm</th>\n",
       "    </tr>\n",
       "  </thead>\n",
       "  <tbody>\n",
       "    <tr>\n",
       "      <th>intercept</th>\n",
       "      <td>0.3</td>\n",
       "      <td>0.371928</td>\n",
       "      <td>0.371928</td>\n",
       "    </tr>\n",
       "    <tr>\n",
       "      <th>hs_math_gpa</th>\n",
       "      <td>0.7</td>\n",
       "      <td>0.672928</td>\n",
       "      <td>0.672928</td>\n",
       "    </tr>\n",
       "    <tr>\n",
       "      <th>hs_calculus</th>\n",
       "      <td>0.3</td>\n",
       "      <td>0.286466</td>\n",
       "      <td>0.286466</td>\n",
       "    </tr>\n",
       "    <tr>\n",
       "      <th>ntu_precalc</th>\n",
       "      <td>0.1</td>\n",
       "      <td>0.113415</td>\n",
       "      <td>0.113415</td>\n",
       "    </tr>\n",
       "  </tbody>\n",
       "</table>\n",
       "</div>"
      ],
      "text/plain": [
       "             Truth    Manual        lm\n",
       "intercept      0.3  0.371928  0.371928\n",
       "hs_math_gpa    0.7  0.672928  0.672928\n",
       "hs_calculus    0.3  0.286466  0.286466\n",
       "ntu_precalc    0.1  0.113415  0.113415"
      ]
     },
     "execution_count": 25,
     "metadata": {},
     "output_type": "execute_result"
    }
   ],
   "source": [
    "Truth = [0.3, 0.7, 0.3, 0.1]\n",
    "Manual = beta_matrix\n",
    "lm = [i for i in model1.params]\n",
    "data = {\"Truth\": Truth, \"Manual\": Manual, \"lm\": lm}\n",
    "df_comp = pd.DataFrame(data, index = [\"intercept\", \"hs_math_gpa\", \"hs_calculus\", \"ntu_precalc\"])\n",
    "df_comp"
   ]
  },
  {
   "cell_type": "markdown",
   "metadata": {},
   "source": [
    "### Q1-g\n",
    "\n",
    "We are asked to calculate the estimated standard error of parameter estimates. There will be three groups of result: Truth, Manual, and lm. \n",
    "* Truth: The true covariance is obtained by altering  $\\hat \\sigma ^2 $ in formula (3) into $\\sigma ^ 2$, and the result is obtained by extracting diagonal elements then take square root.\n",
    "* Manual: Using the property that $\\hat \\sigma ^2 $ is the unbiased estimator of $\\sigma ^ 2$, we use the `beta_SE` obtained in Q1-e\n",
    "* lm: the value can be obtained by using `model.bse`\n",
    "\n",
    "In Q1-h, we will arrange the data into pandas dataframe.\n",
    "\n"
   ]
  },
  {
   "cell_type": "code",
   "execution_count": 26,
   "metadata": {},
   "outputs": [
    {
     "name": "stdout",
     "output_type": "stream",
     "text": [
      "true standard error\n",
      "[0.09923731 0.02782327 0.02444285 0.0244578 ]\n",
      "-------------------------------------------\n",
      "standard error of beta by manual calculation\n",
      "[0.09735829 0.02729645 0.02398004 0.02399471]\n",
      "--------------------------------------------\n",
      "standard error of beta by linear model in python\n",
      "[0.09735829012102729, 0.027296446926939496, 0.023980038084450057, 0.02399470513339941]\n"
     ]
    }
   ],
   "source": [
    "true_cov = pow(sd,2) * C_with_inv\n",
    "true_SE = np.sqrt(np.diag(true_cov))\n",
    "print(\"true standard error\")\n",
    "print(true_SE)\n",
    "print(\"-------------------------------------------\")\n",
    "\n",
    "print(\"standard error of beta by manual calculation\")\n",
    "print(beta_SE)\n",
    "print(\"--------------------------------------------\")\n",
    "# https://stackoverflow.com/questions/31523921/print-std-err-value-from-statsmodels-ols-results\n",
    "# from statsmodels\n",
    "#print(model1.summary()) # how to extract stndard error?\n",
    "print(\"standard error of beta by linear model in python\")\n",
    "model_bse = [i for i in model1.bse]\n",
    "print(model_bse)\n"
   ]
  },
  {
   "cell_type": "markdown",
   "metadata": {},
   "source": [
    "After arranging the data, we can obtain the following table. We can observe that the result of manual calculation is the same as lm function."
   ]
  },
  {
   "cell_type": "code",
   "execution_count": 27,
   "metadata": {},
   "outputs": [
    {
     "data": {
      "text/html": [
       "<div>\n",
       "<style scoped>\n",
       "    .dataframe tbody tr th:only-of-type {\n",
       "        vertical-align: middle;\n",
       "    }\n",
       "\n",
       "    .dataframe tbody tr th {\n",
       "        vertical-align: top;\n",
       "    }\n",
       "\n",
       "    .dataframe thead th {\n",
       "        text-align: right;\n",
       "    }\n",
       "</style>\n",
       "<table border=\"1\" class=\"dataframe\">\n",
       "  <thead>\n",
       "    <tr style=\"text-align: right;\">\n",
       "      <th></th>\n",
       "      <th>Truth</th>\n",
       "      <th>Manual</th>\n",
       "      <th>lm</th>\n",
       "    </tr>\n",
       "  </thead>\n",
       "  <tbody>\n",
       "    <tr>\n",
       "      <th>intercept</th>\n",
       "      <td>0.099237</td>\n",
       "      <td>0.097358</td>\n",
       "      <td>0.097358</td>\n",
       "    </tr>\n",
       "    <tr>\n",
       "      <th>hs_math_gpa</th>\n",
       "      <td>0.027823</td>\n",
       "      <td>0.027296</td>\n",
       "      <td>0.027296</td>\n",
       "    </tr>\n",
       "    <tr>\n",
       "      <th>hs_calculus</th>\n",
       "      <td>0.024443</td>\n",
       "      <td>0.023980</td>\n",
       "      <td>0.023980</td>\n",
       "    </tr>\n",
       "    <tr>\n",
       "      <th>ntu_precalc</th>\n",
       "      <td>0.024458</td>\n",
       "      <td>0.023995</td>\n",
       "      <td>0.023995</td>\n",
       "    </tr>\n",
       "  </tbody>\n",
       "</table>\n",
       "</div>"
      ],
      "text/plain": [
       "                Truth    Manual        lm\n",
       "intercept    0.099237  0.097358  0.097358\n",
       "hs_math_gpa  0.027823  0.027296  0.027296\n",
       "hs_calculus  0.024443  0.023980  0.023980\n",
       "ntu_precalc  0.024458  0.023995  0.023995"
      ]
     },
     "execution_count": 27,
     "metadata": {},
     "output_type": "execute_result"
    }
   ],
   "source": [
    "error = {\"Truth\": true_SE, \"Manual\": beta_SE, \"lm\": model_bse}\n",
    "df_error = pd.DataFrame(error, index = [\"intercept\", \"hs_math_gpa\", \"hs_calculus\", \"ntu_precalc\"])\n",
    "df_error"
   ]
  },
  {
   "cell_type": "markdown",
   "metadata": {},
   "source": [
    "### Q1-h\n",
    "\n",
    "We are asked to compare the estimated residual variance. The way to calculate the values are listed below:\n",
    "* True value: 0.5(the standard deviation specified in the question) **  2\n",
    "* Manual calulation: The formula stated in Q1-e\n",
    "* lm: `model.mde_resid`\n",
    "\n",
    "From the table below, we can see that result of Manual calculation and lm is the same."
   ]
  },
  {
   "cell_type": "code",
   "execution_count": 28,
   "metadata": {},
   "outputs": [
    {
     "data": {
      "text/html": [
       "<div>\n",
       "<style scoped>\n",
       "    .dataframe tbody tr th:only-of-type {\n",
       "        vertical-align: middle;\n",
       "    }\n",
       "\n",
       "    .dataframe tbody tr th {\n",
       "        vertical-align: top;\n",
       "    }\n",
       "\n",
       "    .dataframe thead th {\n",
       "        text-align: right;\n",
       "    }\n",
       "</style>\n",
       "<table border=\"1\" class=\"dataframe\">\n",
       "  <thead>\n",
       "    <tr style=\"text-align: right;\">\n",
       "      <th></th>\n",
       "      <th>Truth</th>\n",
       "      <th>Manual</th>\n",
       "      <th>lm</th>\n",
       "    </tr>\n",
       "  </thead>\n",
       "  <tbody>\n",
       "    <tr>\n",
       "      <th>residual var</th>\n",
       "      <td>0.25</td>\n",
       "      <td>0.240622</td>\n",
       "      <td>0.240622</td>\n",
       "    </tr>\n",
       "  </tbody>\n",
       "</table>\n",
       "</div>"
      ],
      "text/plain": [
       "              Truth    Manual        lm\n",
       "residual var   0.25  0.240622  0.240622"
      ]
     },
     "execution_count": 28,
     "metadata": {},
     "output_type": "execute_result"
    }
   ],
   "source": [
    "true_residual_var = sd ** 2\n",
    "residual_var = residual_noise\n",
    "lm_residual_var = model1.mse_resid\n",
    "residual_comp = {\"Truth\": true_residual_var, \"Manual\": residual_var, \"lm\": residual_var}\n",
    "residual_comp_df = pd.DataFrame(residual_comp, index = [\"residual var\"])\n",
    "residual_comp_df"
   ]
  },
  {
   "cell_type": "markdown",
   "metadata": {},
   "source": [
    "### Q1-i\n",
    "using the coefficient obtained in Q1-f, we compute the value using the following formula:\n",
    "$$coeff[0] + coeff[1]* HS\\_math\\_GPA + coeff[2]*HS\\_calc+coeff[3]*NTU\\_precalc$$\n",
    "where `HS_math_GPA`, `HS_calc`, and `NTU_precalc` value are stated in the question. and `coeff` can be replaced as `Truth`, `Manual`, or `lm`\n",
    "\n",
    "After calculation and some post-processing, one can obtained the table below. From the table, we can see that the value predicted by Manual and lm is the same, and the True value is slightlt higher than the manual and lm value."
   ]
  },
  {
   "cell_type": "code",
   "execution_count": 29,
   "metadata": {},
   "outputs": [
    {
     "data": {
      "text/html": [
       "<div>\n",
       "<style scoped>\n",
       "    .dataframe tbody tr th:only-of-type {\n",
       "        vertical-align: middle;\n",
       "    }\n",
       "\n",
       "    .dataframe tbody tr th {\n",
       "        vertical-align: top;\n",
       "    }\n",
       "\n",
       "    .dataframe thead th {\n",
       "        text-align: right;\n",
       "    }\n",
       "</style>\n",
       "<table border=\"1\" class=\"dataframe\">\n",
       "  <thead>\n",
       "    <tr style=\"text-align: right;\">\n",
       "      <th></th>\n",
       "      <th>Truth</th>\n",
       "      <th>Manual</th>\n",
       "      <th>lm</th>\n",
       "    </tr>\n",
       "  </thead>\n",
       "  <tbody>\n",
       "    <tr>\n",
       "      <th>prediction</th>\n",
       "      <td>2.786419</td>\n",
       "      <td>2.760256</td>\n",
       "      <td>2.760256</td>\n",
       "    </tr>\n",
       "  </tbody>\n",
       "</table>\n",
       "</div>"
      ],
      "text/plain": [
       "               Truth    Manual        lm\n",
       "prediction  2.786419  2.760256  2.760256"
      ]
     },
     "execution_count": 29,
     "metadata": {},
     "output_type": "execute_result"
    }
   ],
   "source": [
    "# using the coeffiecient in Q1-f\n",
    "# Truth\n",
    "HS_math_GPA = 3.123456\n",
    "HS_calc = 1\n",
    "NTU_precalc = 0\n",
    "\n",
    "pred_truth = Truth[0] + Truth[1]* HS_math_GPA + Truth[2] * HS_calc + Truth[3] * NTU_precalc\n",
    "pred_manual = Manual[0] + Manual[1] * HS_math_GPA + Manual[2] * HS_calc + Manual[3] * NTU_precalc\n",
    "pred_lm = lm[0] + lm[1] * HS_math_GPA + lm[2] * HS_calc + lm[3] * NTU_precalc\n",
    "\n",
    "pred_table = pd.DataFrame({\"Truth\": pred_truth, \"Manual\": pred_manual, \"lm\": pred_lm }, index = [\"prediction\"])\n",
    "pred_table"
   ]
  }
 ],
 "metadata": {
  "interpreter": {
   "hash": "cdc24ae0c741b64722937ee9139de5c3349dbeb6ed5467cc42a4fed5f500b0a1"
  },
  "kernelspec": {
   "display_name": "Python 3.10.4 64-bit",
   "language": "python",
   "name": "python3"
  },
  "language_info": {
   "codemirror_mode": {
    "name": "ipython",
    "version": 3
   },
   "file_extension": ".py",
   "mimetype": "text/x-python",
   "name": "python",
   "nbconvert_exporter": "python",
   "pygments_lexer": "ipython3",
   "version": "3.10.4"
  },
  "orig_nbformat": 4
 },
 "nbformat": 4,
 "nbformat_minor": 2
}
